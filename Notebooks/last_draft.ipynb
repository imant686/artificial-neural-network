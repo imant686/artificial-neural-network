{
 "cells": [
  {
   "cell_type": "markdown",
   "id": "de3925d8-7b06-4660-a261-6c6122725df7",
   "metadata": {},
   "source": [
    "**F21BC**"
   ]
  },
  {
   "cell_type": "code",
   "execution_count": 13,
   "id": "3a814445-6960-4c14-9e10-edfba438d3a8",
   "metadata": {},
   "outputs": [],
   "source": [
    "import pandas as pd\n",
    "import numpy as np\n",
    "import matplotlib.pyplot as plt\n",
    "import seaborn as sns\n",
    "from sklearn.preprocessing import LabelEncoder, StandardScaler"
   ]
  },
  {
   "cell_type": "code",
   "execution_count": 14,
   "id": "f86173b9-c298-4a34-98c2-74a443f8e0a0",
   "metadata": {},
   "outputs": [],
   "source": [
    "df = pd.read_excel('concrete+compressive+strength/Concrete_Data.xls')\n"
   ]
  },
  {
   "cell_type": "markdown",
   "id": "843c348c-6f4f-49a1-af31-fea72a3bf915",
   "metadata": {},
   "source": [
    "**Viewing the first few instances of the data**"
   ]
  },
  {
   "cell_type": "code",
   "execution_count": 15,
   "id": "5650ca39-2c52-45cf-800e-778720fa11d8",
   "metadata": {},
   "outputs": [
    {
     "data": {
      "text/html": [
       "<div>\n",
       "<style scoped>\n",
       "    .dataframe tbody tr th:only-of-type {\n",
       "        vertical-align: middle;\n",
       "    }\n",
       "\n",
       "    .dataframe tbody tr th {\n",
       "        vertical-align: top;\n",
       "    }\n",
       "\n",
       "    .dataframe thead th {\n",
       "        text-align: right;\n",
       "    }\n",
       "</style>\n",
       "<table border=\"1\" class=\"dataframe\">\n",
       "  <thead>\n",
       "    <tr style=\"text-align: right;\">\n",
       "      <th></th>\n",
       "      <th>Cement (component 1)(kg in a m^3 mixture)</th>\n",
       "      <th>Blast Furnace Slag (component 2)(kg in a m^3 mixture)</th>\n",
       "      <th>Fly Ash (component 3)(kg in a m^3 mixture)</th>\n",
       "      <th>Water  (component 4)(kg in a m^3 mixture)</th>\n",
       "      <th>Superplasticizer (component 5)(kg in a m^3 mixture)</th>\n",
       "      <th>Coarse Aggregate  (component 6)(kg in a m^3 mixture)</th>\n",
       "      <th>Fine Aggregate (component 7)(kg in a m^3 mixture)</th>\n",
       "      <th>Age (day)</th>\n",
       "      <th>Concrete compressive strength(MPa, megapascals)</th>\n",
       "    </tr>\n",
       "  </thead>\n",
       "  <tbody>\n",
       "    <tr>\n",
       "      <th>0</th>\n",
       "      <td>540.0</td>\n",
       "      <td>0.0</td>\n",
       "      <td>0.0</td>\n",
       "      <td>162.0</td>\n",
       "      <td>2.5</td>\n",
       "      <td>1040.0</td>\n",
       "      <td>676.0</td>\n",
       "      <td>28</td>\n",
       "      <td>79.986111</td>\n",
       "    </tr>\n",
       "    <tr>\n",
       "      <th>1</th>\n",
       "      <td>540.0</td>\n",
       "      <td>0.0</td>\n",
       "      <td>0.0</td>\n",
       "      <td>162.0</td>\n",
       "      <td>2.5</td>\n",
       "      <td>1055.0</td>\n",
       "      <td>676.0</td>\n",
       "      <td>28</td>\n",
       "      <td>61.887366</td>\n",
       "    </tr>\n",
       "    <tr>\n",
       "      <th>2</th>\n",
       "      <td>332.5</td>\n",
       "      <td>142.5</td>\n",
       "      <td>0.0</td>\n",
       "      <td>228.0</td>\n",
       "      <td>0.0</td>\n",
       "      <td>932.0</td>\n",
       "      <td>594.0</td>\n",
       "      <td>270</td>\n",
       "      <td>40.269535</td>\n",
       "    </tr>\n",
       "    <tr>\n",
       "      <th>3</th>\n",
       "      <td>332.5</td>\n",
       "      <td>142.5</td>\n",
       "      <td>0.0</td>\n",
       "      <td>228.0</td>\n",
       "      <td>0.0</td>\n",
       "      <td>932.0</td>\n",
       "      <td>594.0</td>\n",
       "      <td>365</td>\n",
       "      <td>41.052780</td>\n",
       "    </tr>\n",
       "    <tr>\n",
       "      <th>4</th>\n",
       "      <td>198.6</td>\n",
       "      <td>132.4</td>\n",
       "      <td>0.0</td>\n",
       "      <td>192.0</td>\n",
       "      <td>0.0</td>\n",
       "      <td>978.4</td>\n",
       "      <td>825.5</td>\n",
       "      <td>360</td>\n",
       "      <td>44.296075</td>\n",
       "    </tr>\n",
       "  </tbody>\n",
       "</table>\n",
       "</div>"
      ],
      "text/plain": [
       "   Cement (component 1)(kg in a m^3 mixture)  \\\n",
       "0                                      540.0   \n",
       "1                                      540.0   \n",
       "2                                      332.5   \n",
       "3                                      332.5   \n",
       "4                                      198.6   \n",
       "\n",
       "   Blast Furnace Slag (component 2)(kg in a m^3 mixture)  \\\n",
       "0                                                0.0       \n",
       "1                                                0.0       \n",
       "2                                              142.5       \n",
       "3                                              142.5       \n",
       "4                                              132.4       \n",
       "\n",
       "   Fly Ash (component 3)(kg in a m^3 mixture)  \\\n",
       "0                                         0.0   \n",
       "1                                         0.0   \n",
       "2                                         0.0   \n",
       "3                                         0.0   \n",
       "4                                         0.0   \n",
       "\n",
       "   Water  (component 4)(kg in a m^3 mixture)  \\\n",
       "0                                      162.0   \n",
       "1                                      162.0   \n",
       "2                                      228.0   \n",
       "3                                      228.0   \n",
       "4                                      192.0   \n",
       "\n",
       "   Superplasticizer (component 5)(kg in a m^3 mixture)  \\\n",
       "0                                                2.5     \n",
       "1                                                2.5     \n",
       "2                                                0.0     \n",
       "3                                                0.0     \n",
       "4                                                0.0     \n",
       "\n",
       "   Coarse Aggregate  (component 6)(kg in a m^3 mixture)  \\\n",
       "0                                             1040.0      \n",
       "1                                             1055.0      \n",
       "2                                              932.0      \n",
       "3                                              932.0      \n",
       "4                                              978.4      \n",
       "\n",
       "   Fine Aggregate (component 7)(kg in a m^3 mixture)  Age (day)  \\\n",
       "0                                              676.0         28   \n",
       "1                                              676.0         28   \n",
       "2                                              594.0        270   \n",
       "3                                              594.0        365   \n",
       "4                                              825.5        360   \n",
       "\n",
       "   Concrete compressive strength(MPa, megapascals)   \n",
       "0                                         79.986111  \n",
       "1                                         61.887366  \n",
       "2                                         40.269535  \n",
       "3                                         41.052780  \n",
       "4                                         44.296075  "
      ]
     },
     "execution_count": 15,
     "metadata": {},
     "output_type": "execute_result"
    }
   ],
   "source": [
    "df.head()"
   ]
  },
  {
   "cell_type": "markdown",
   "id": "d462a68b-1277-4dcb-9ffb-3796e86d2bb1",
   "metadata": {},
   "source": [
    "*Viewing the dimensionality of the dataset* "
   ]
  },
  {
   "cell_type": "code",
   "execution_count": 21,
   "id": "033eda81-0b1f-47ab-aee0-fe85ec55ba85",
   "metadata": {},
   "outputs": [
    {
     "data": {
      "text/plain": [
       "(1005, 9)"
      ]
     },
     "execution_count": 21,
     "metadata": {},
     "output_type": "execute_result"
    }
   ],
   "source": [
    "df.shape"
   ]
  },
  {
   "cell_type": "code",
   "execution_count": 16,
   "id": "cca774ba-5993-44d4-b484-6c5d2528a8bd",
   "metadata": {},
   "outputs": [
    {
     "data": {
      "text/plain": [
       "Cement (component 1)(kg in a m^3 mixture)                0\n",
       "Blast Furnace Slag (component 2)(kg in a m^3 mixture)    0\n",
       "Fly Ash (component 3)(kg in a m^3 mixture)               0\n",
       "Water  (component 4)(kg in a m^3 mixture)                0\n",
       "Superplasticizer (component 5)(kg in a m^3 mixture)      0\n",
       "Coarse Aggregate  (component 6)(kg in a m^3 mixture)     0\n",
       "Fine Aggregate (component 7)(kg in a m^3 mixture)        0\n",
       "Age (day)                                                0\n",
       "Concrete compressive strength(MPa, megapascals)          0\n",
       "dtype: int64"
      ]
     },
     "execution_count": 16,
     "metadata": {},
     "output_type": "execute_result"
    }
   ],
   "source": [
    "df.dropna(inplace = True)\n",
    "df.isnull().sum()"
   ]
  },
  {
   "cell_type": "code",
   "execution_count": 19,
   "id": "08f2c1bb-6ec4-4001-93cb-10c37d52d5d3",
   "metadata": {},
   "outputs": [
    {
     "name": "stdout",
     "output_type": "stream",
     "text": [
      "Duplicate rows: 25\n"
     ]
    }
   ],
   "source": [
    "print(f'Duplicate rows: {df.duplicated().sum()}')"
   ]
  },
  {
   "cell_type": "code",
   "execution_count": 18,
   "id": "2c15b7ff-dfa1-4597-a5b8-d6ebd235be83",
   "metadata": {},
   "outputs": [],
   "source": [
    "# Remove duplicate rows\n",
    "df.drop_duplicates(inplace=True)"
   ]
  },
  {
   "cell_type": "markdown",
   "id": "30f48e29-7d92-4504-b040-9b3f0b83ed87",
   "metadata": {},
   "source": [
    "**Scaling and Encoding**"
   ]
  },
  {
   "cell_type": "code",
   "execution_count": 23,
   "id": "7d2a0134-ad67-4f9a-b445-736cfacd5100",
   "metadata": {},
   "outputs": [],
   "source": [
    "from sklearn.model_selection import train_test_split\n",
    "\n",
    "X = df.iloc[:, :-1].values  \n",
    "y = df.iloc[:, -1].values   \n",
    "\n",
    "# split into training and testing sets\n",
    "X_train, X_test, y_train, y_test = train_test_split(X, y, test_size = 0.3, random_state = 42) \n"
   ]
  },
  {
   "cell_type": "code",
   "execution_count": 54,
   "id": "82434491-c91b-4bb6-9e56-d02ef2c5fa03",
   "metadata": {},
   "outputs": [],
   "source": [
    "scaler = StandardScaler()\n",
    "\n",
    "#intialise training and test sets\n",
    "X_train_scaled = scaler.fit_transform(X_train)  \n",
    "X_test_scaled = scaler.transform(X_test)        "
   ]
  },
  {
   "cell_type": "code",
   "execution_count": 59,
   "id": "c9590511-f8bd-451b-98e2-0e3d519bb67b",
   "metadata": {},
   "outputs": [
    {
     "name": "stdout",
     "output_type": "stream",
     "text": [
      "First 5 rows of scaled training data:\n",
      "[[-0.634274   -0.81866937  0.67425626 -1.10040309  0.46818459  0.40876467\n",
      "   1.63220543  0.87023165]\n",
      " [ 1.37649573  0.41224912 -0.88193591 -1.37711434  1.82041152 -1.58177583\n",
      "   1.43038796  0.72634905]\n",
      " [-0.30958693 -0.81866937  1.05737381 -1.86207219  1.0375433   1.41873705\n",
      "   0.37528277 -0.28082919]\n",
      " [-1.01413233 -0.66107011  1.7905842  -1.222118   -0.32509872  0.38958798\n",
      "   1.05465742 -0.28082919]\n",
      " [-1.07365672 -0.81866937  1.64949275 -0.28548372 -0.26434398  1.05821526\n",
      "   0.12071615  0.87023165]]\n"
     ]
    }
   ],
   "source": [
    "print(\"First 5 rows of scaled training data:\")\n",
    "print(X_train_scaled[:5])"
   ]
  },
  {
   "cell_type": "markdown",
   "id": "78d90124-ed32-4fe9-a9e9-1be683f411d1",
   "metadata": {},
   "source": [
    "**Artificial Neural Network (ANN)**\n",
    "Below are the implementations of the ANN to train and predict concrete compressive strength"
   ]
  },
  {
   "cell_type": "code",
   "execution_count": 26,
   "id": "f36052af-8785-4f80-a652-a174b844c476",
   "metadata": {},
   "outputs": [],
   "source": [
    "class activationFunction:\n",
    "    def logisticFunction(x):\n",
    "        return 1 / (1 + np.exp(-x))\n",
    "\n",
    "    def reLuFunction(x):\n",
    "        return np.maximum(0, x)\n",
    "\n",
    "    def hyperbolicFunction(x):\n",
    "        return np.tanh(x)\n",
    "\n",
    "    def leakyReLU(x, alpha=0.01):\n",
    "        return np.maximum(x, alpha * x)\n",
    "\n",
    "    def elu(x, alpha=1.0):\n",
    "        return np.where(x > 0, x, alpha * (np.exp(x) - 1))\n",
    "\n",
    "class ArtificialNeuralNetwork:\n",
    "    def __init__(self, layerSize, activationFunction):\n",
    "        if len(activationFunction) != len(layerSize) - 1:\n",
    "            raise ValueError(\"Number of activation functions must be one less than number of layers.\")\n",
    "\n",
    "        self.layerSize = layerSize\n",
    "        self.activationFunction = activationFunction\n",
    "        self.weights = [np.random.randn(layerSize[i], layerSize[i + 1]) for i in range(len(layerSize) - 1)]\n",
    "        self.biases = [np.random.randn(1, layerSize[i + 1]) for i in range(len(layerSize) - 1)]\n",
    "\n",
    "    def forwardPropagation(self, x):\n",
    "        output = x\n",
    "        for i in range(len(self.weights)):\n",
    "            matrix_total = np.dot(output, self.weights[i]) + self.biases[i]\n",
    "            output = self.activationFunction[i](matrix_total)  # Apply the ith activation function\n",
    "        return output"
   ]
  },
  {
   "cell_type": "markdown",
   "id": "1ed5052f-91c5-4274-befd-9730ed83beb7",
   "metadata": {},
   "source": [
    "*Layer size is structure to be 8 input layers, 16 neurons in first hidden layer, 8 for the second hidden layer, and 1 for the output layer.*\n",
    "*This is to check the predicted values generated after forward propagation from the ANN*"
   ]
  },
  {
   "cell_type": "code",
   "execution_count": 48,
   "id": "8c52e988-67b2-445f-ba2a-1b11eabc73d8",
   "metadata": {},
   "outputs": [
    {
     "name": "stdout",
     "output_type": "stream",
     "text": [
      "ANN Output (Sample Predictions): [[0.75832783]\n",
      " [0.95719977]\n",
      " [0.99574793]\n",
      " [0.9929544 ]\n",
      " [0.99024769]\n",
      " [0.91919397]\n",
      " [0.99975592]\n",
      " [0.94464942]]\n"
     ]
    }
   ],
   "source": [
    "layer_sizes = [8, 16, 8, 1]\n",
    "\n",
    "activation_functions = [\n",
    "    activationFunction.logisticFunction,\n",
    "    activationFunction.reLuFunction,\n",
    "    activationFunction.hyperbolicFunction,\n",
    "]\n",
    "\n",
    "ann = ArtificialNeuralNetwork(layer_sizes, activation_functions)\n",
    "\n",
    "x_example = np.random.rand(8, 8)  # 8samples, 8 features\n",
    "output = ann.forwardPropagation(x_example)\n",
    "print(\"ANN Output (Sample Predictions):\", output)\n"
   ]
  },
  {
   "cell_type": "markdown",
   "id": "78632050-f421-43b0-ab60-642af572e692",
   "metadata": {},
   "source": [
    "**Loss Function**\n",
    "*Since the problem domian is regression, MSE is utilised as the loss function*"
   ]
  },
  {
   "cell_type": "code",
   "execution_count": 60,
   "id": "37370e3e-512a-42a9-a622-35d32b96af49",
   "metadata": {},
   "outputs": [],
   "source": [
    "class lossFunction:\n",
    "    def evaluate(self, y_pred, y_train):\n",
    "        pass\n",
    "class MeanSquaredError(lossFunction):\n",
    "    def evaluate(self, y_pred, y_train):\n",
    "        return np.mean((y_pred - y_train) ** 2)"
   ]
  },
  {
   "cell_type": "code",
   "execution_count": 62,
   "id": "465dcf79-542a-4fa4-b5de-a4a1da002e8e",
   "metadata": {},
   "outputs": [
    {
     "name": "stdout",
     "output_type": "stream",
     "text": [
      "Loss: 1447.58422660566\n"
     ]
    }
   ],
   "source": [
    "loss_function = MeanSquaredError()\n",
    "\n",
    "#output of forward propagation\n",
    "y_pred = ann.forwardPropagation(X_train_scaled)\n",
    "\n",
    "#use the output to calculate the loss function \n",
    "print(\"Loss:\", loss_function.evaluate(y_pred, y_train))"
   ]
  },
  {
   "cell_type": "markdown",
   "id": "75222630-f415-4b05-bdf5-778ea94c3c0d",
   "metadata": {},
   "source": [
    "**Implement PSO Algorithm** "
   ]
  },
  {
   "cell_type": "code",
   "execution_count": null,
   "id": "9917bcd6-8081-4101-9a56-67827043922b",
   "metadata": {},
   "outputs": [],
   "source": [
    "class Particle:\n",
    "    def __init__(self, vectorSize):\n",
    "        \n",
    "        #self.particlePosition=numpy.random.rand(vectorSize)\n",
    "        #self.particleVelocity=numpy.random.rand(vectorSize)    i think this is wrong. i think it should be initialising it from zero \n",
    "        \n",
    "        self.particlePosition = np.zeros(vectorSize)\n",
    "        self.particleVelocity = np.zeros(vectorSize)\n",
    "        self.bestPosition=np.zeros(vectorSize)\n",
    "        self.bestFitness = float('inf')  #best fitness \n",
    "\n",
    "    def updateBestPosition(self, fitness):\n",
    "        \n",
    "        if fitness < self.best_fitness:  # Minimize fitness\n",
    "            self.best_fitness = fitness\n",
    "            self.best_position = np.copy(self.position)\n",
    "\n",
    "        #we probably need a function for update velocity \n",
    "    "
   ]
  },
  {
   "cell_type": "code",
   "execution_count": null,
   "id": "ff9b7e2d-aa7c-410a-a632-6054362aba9e",
   "metadata": {},
   "outputs": [],
   "source": [
    "from Particle import Particle\n",
    "class ParticleSwarmOptimisation:\n",
    "    # initialise variables, use init function: constructor method\n",
    "    def __init__(self,swarmSize,alpha,beta,delta,omega,jumpSize,informantCount,vectorSize):\n",
    "        self.swarmSize = swarmSize\n",
    "        self.alpha = alpha\n",
    "        self.beta = beta\n",
    "        self.delta = delta\n",
    "        self.omega = omega\n",
    "        self.jumpSize = jumpSize\n",
    "        self.informantCount = informantCount\n",
    "        self.vectorSize = vectorSize\n",
    "        self.global_best = None\n",
    "        self.global_best_fitness = float('inf')\n",
    "\n",
    "\n",
    "        # assign informants\n",
    "        def initInformants(informantCount,particleArray):\n",
    "            pass\n",
    "\n",
    "        # Example of assessFitness\n",
    "        def assessFitness(particle, X, y, loss_function,predictions):\n",
    "            # Implement forward propagation for the ANN represented by this particle\n",
    "            # Use particle's position as ANN weights/biases\n",
    "            # Calculate the loss (or error) using the provided loss_function\n",
    "            # Return the computed fitness\n",
    "            predictions = particle.forward_prop(X)  # Suppose each particle has a forward_prop method\n",
    "            fitness = loss_function(predictions, y)\n",
    "            return fitness\n",
    "\n",
    "        \n",
    "        def psoOptimisation(swarmSize,alpha,beta,delta,omega,jumpSize,informantCount,vectorSize):\n",
    "            # stores all of the particles\n",
    "            particleArray=[]\n",
    "            for i in range(swarmSize):\n",
    "                particleArray.append(Particle(vectorSize))\n",
    "            best=None\n",
    "            #initialising informants for the particles\n",
    "            '''write code'''\n",
    "            while(True): #will change to do while loop\n",
    "                # compare fitness\n",
    "                for p in particleArray:\n",
    "                    particleFitness=assessFitness(p)\n",
    "                    bestFitness=assessFitness(best)\n",
    "                    if best is None or particleFitness<bestFitness:\n",
    "                        best=p\n",
    "                for p in particleArray:\n",
    "                    previousBest=p.bestPosition\n",
    "                    #informantsBest=\n",
    "                    allBest=best.bestPosition\n",
    "\n",
    "\n",
    "\n",
    "\n",
    "\n",
    "\n",
    "\n",
    "\n"
   ]
  }
 ],
 "metadata": {
  "kernelspec": {
   "display_name": "Python 3 (ipykernel)",
   "language": "python",
   "name": "python3"
  },
  "language_info": {
   "codemirror_mode": {
    "name": "ipython",
    "version": 3
   },
   "file_extension": ".py",
   "mimetype": "text/x-python",
   "name": "python",
   "nbconvert_exporter": "python",
   "pygments_lexer": "ipython3",
   "version": "3.12.7"
  }
 },
 "nbformat": 4,
 "nbformat_minor": 5
}
