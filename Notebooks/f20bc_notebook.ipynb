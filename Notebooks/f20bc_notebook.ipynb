{
 "cells": [
  {
   "cell_type": "markdown",
   "id": "6c3c1e44-72f7-4641-8c24-f68f85ed56df",
   "metadata": {
    "id": "de3925d8-7b06-4660-a261-6c6122725df7"
   },
   "source": [
    "<h1>F20BC Coursework</h1>\n",
    "<p style=\"font-size:15px;\">This notebook implements and analyses the Biologically-Inspired Computation coursework, focusing on Artificial Neural Networks (ANNs) and Particle Swarm Optimization (PSO). It includes a multi-layer ANN architecture trained using PSO to solve a regression task predicting concrete compressive strength. Additionally, it explores the impact of hyperparameters on model performance through systematic experiments.</p>"
   ]
  },
  {
   "cell_type": "markdown",
   "id": "bebafff1-e6fe-4c34-a1d1-773ddaac79d0",
   "metadata": {},
   "source": [
    "**<p style=\"font-size:18px;\">Data Preparation</p>** \n",
    "This contains all the data preprocessing and cleaning</p> "
   ]
  },
  {
   "cell_type": "code",
   "execution_count": 532,
   "id": "809b53d2-be68-4d76-b10a-080316806117",
   "metadata": {},
   "outputs": [
    {
     "name": "stdout",
     "output_type": "stream",
     "text": [
      "/Users/imanteh/f20bc/F21BC/Notebooks\n"
     ]
    }
   ],
   "source": [
    "import os\n",
    "print(os.getcwd())"
   ]
  },
  {
   "cell_type": "code",
   "execution_count": 533,
   "id": "3a814445-6960-4c14-9e10-edfba438d3a8",
   "metadata": {
    "id": "3a814445-6960-4c14-9e10-edfba438d3a8"
   },
   "outputs": [],
   "source": [
    "import pandas as pd\n",
    "import numpy as np\n",
    "import matplotlib.pyplot as plt\n",
    "import seaborn as sns\n",
    "import random\n",
    "from sklearn.preprocessing import LabelEncoder, StandardScaler"
   ]
  },
  {
   "cell_type": "code",
   "execution_count": 534,
   "id": "f86173b9-c298-4a34-98c2-74a443f8e0a0",
   "metadata": {
    "id": "f86173b9-c298-4a34-98c2-74a443f8e0a0"
   },
   "outputs": [],
   "source": [
    "df = pd.read_csv(\"../Dataset/concrete_data.csv\", skiprows=1)"
   ]
  },
  {
   "cell_type": "code",
   "execution_count": 535,
   "id": "5650ca39-2c52-45cf-800e-778720fa11d8",
   "metadata": {
    "colab": {
     "base_uri": "https://localhost:8080/",
     "height": 226
    },
    "id": "5650ca39-2c52-45cf-800e-778720fa11d8",
    "outputId": "fd7be3b5-3708-40c1-b7be-01f4a9dc68c6"
   },
   "outputs": [
    {
     "data": {
      "text/html": [
       "<div>\n",
       "<style scoped>\n",
       "    .dataframe tbody tr th:only-of-type {\n",
       "        vertical-align: middle;\n",
       "    }\n",
       "\n",
       "    .dataframe tbody tr th {\n",
       "        vertical-align: top;\n",
       "    }\n",
       "\n",
       "    .dataframe thead th {\n",
       "        text-align: right;\n",
       "    }\n",
       "</style>\n",
       "<table border=\"1\" class=\"dataframe\">\n",
       "  <thead>\n",
       "    <tr style=\"text-align: right;\">\n",
       "      <th></th>\n",
       "      <th>cement</th>\n",
       "      <th>blast_furnace_slag</th>\n",
       "      <th>fly_ash</th>\n",
       "      <th>water</th>\n",
       "      <th>superplasticizer</th>\n",
       "      <th>coarse_aggregate</th>\n",
       "      <th>fine_aggregate</th>\n",
       "      <th>age</th>\n",
       "      <th>concrete_compressive_strength</th>\n",
       "    </tr>\n",
       "  </thead>\n",
       "  <tbody>\n",
       "    <tr>\n",
       "      <th>0</th>\n",
       "      <td>540.0</td>\n",
       "      <td>0.0</td>\n",
       "      <td>0.0</td>\n",
       "      <td>162.0</td>\n",
       "      <td>2.5</td>\n",
       "      <td>1040.0</td>\n",
       "      <td>676.0</td>\n",
       "      <td>28</td>\n",
       "      <td>79.99</td>\n",
       "    </tr>\n",
       "    <tr>\n",
       "      <th>1</th>\n",
       "      <td>540.0</td>\n",
       "      <td>0.0</td>\n",
       "      <td>0.0</td>\n",
       "      <td>162.0</td>\n",
       "      <td>2.5</td>\n",
       "      <td>1055.0</td>\n",
       "      <td>676.0</td>\n",
       "      <td>28</td>\n",
       "      <td>61.89</td>\n",
       "    </tr>\n",
       "    <tr>\n",
       "      <th>2</th>\n",
       "      <td>332.5</td>\n",
       "      <td>142.5</td>\n",
       "      <td>0.0</td>\n",
       "      <td>228.0</td>\n",
       "      <td>0.0</td>\n",
       "      <td>932.0</td>\n",
       "      <td>594.0</td>\n",
       "      <td>270</td>\n",
       "      <td>40.27</td>\n",
       "    </tr>\n",
       "    <tr>\n",
       "      <th>3</th>\n",
       "      <td>332.5</td>\n",
       "      <td>142.5</td>\n",
       "      <td>0.0</td>\n",
       "      <td>228.0</td>\n",
       "      <td>0.0</td>\n",
       "      <td>932.0</td>\n",
       "      <td>594.0</td>\n",
       "      <td>365</td>\n",
       "      <td>41.05</td>\n",
       "    </tr>\n",
       "    <tr>\n",
       "      <th>4</th>\n",
       "      <td>198.6</td>\n",
       "      <td>132.4</td>\n",
       "      <td>0.0</td>\n",
       "      <td>192.0</td>\n",
       "      <td>0.0</td>\n",
       "      <td>978.4</td>\n",
       "      <td>825.5</td>\n",
       "      <td>360</td>\n",
       "      <td>44.30</td>\n",
       "    </tr>\n",
       "  </tbody>\n",
       "</table>\n",
       "</div>"
      ],
      "text/plain": [
       "   cement  blast_furnace_slag  fly_ash  water  superplasticizer  \\\n",
       "0   540.0                 0.0      0.0  162.0               2.5   \n",
       "1   540.0                 0.0      0.0  162.0               2.5   \n",
       "2   332.5               142.5      0.0  228.0               0.0   \n",
       "3   332.5               142.5      0.0  228.0               0.0   \n",
       "4   198.6               132.4      0.0  192.0               0.0   \n",
       "\n",
       "   coarse_aggregate  fine_aggregate   age  concrete_compressive_strength  \n",
       "0            1040.0            676.0   28                          79.99  \n",
       "1            1055.0            676.0   28                          61.89  \n",
       "2             932.0            594.0  270                          40.27  \n",
       "3             932.0            594.0  365                          41.05  \n",
       "4             978.4            825.5  360                          44.30  "
      ]
     },
     "execution_count": 535,
     "metadata": {},
     "output_type": "execute_result"
    }
   ],
   "source": [
    "df.head()"
   ]
  },
  {
   "cell_type": "code",
   "execution_count": 536,
   "id": "033eda81-0b1f-47ab-aee0-fe85ec55ba85",
   "metadata": {
    "colab": {
     "base_uri": "https://localhost:8080/"
    },
    "id": "033eda81-0b1f-47ab-aee0-fe85ec55ba85",
    "outputId": "d40479cf-4067-4002-e741-bc60e7356f19"
   },
   "outputs": [
    {
     "data": {
      "text/plain": [
       "(1030, 9)"
      ]
     },
     "execution_count": 536,
     "metadata": {},
     "output_type": "execute_result"
    }
   ],
   "source": [
    "# Viewing the dimensionality of the dataset\n",
    "df.shape"
   ]
  },
  {
   "cell_type": "code",
   "execution_count": 537,
   "id": "cca774ba-5993-44d4-b484-6c5d2528a8bd",
   "metadata": {
    "colab": {
     "base_uri": "https://localhost:8080/",
     "height": 366
    },
    "id": "cca774ba-5993-44d4-b484-6c5d2528a8bd",
    "outputId": "1443dfd3-70e2-4044-b104-72aff9de75ea"
   },
   "outputs": [
    {
     "data": {
      "text/plain": [
       "cement                           0\n",
       "blast_furnace_slag               0\n",
       "fly_ash                          0\n",
       "water                            0\n",
       "superplasticizer                 0\n",
       "coarse_aggregate                 0\n",
       "fine_aggregate                   0\n",
       "age                              0\n",
       "concrete_compressive_strength    0\n",
       "dtype: int64"
      ]
     },
     "execution_count": 537,
     "metadata": {},
     "output_type": "execute_result"
    }
   ],
   "source": [
    "df.dropna(inplace = True)\n",
    "df.isnull().sum()"
   ]
  },
  {
   "cell_type": "code",
   "execution_count": 538,
   "id": "08f2c1bb-6ec4-4001-93cb-10c37d52d5d3",
   "metadata": {
    "colab": {
     "base_uri": "https://localhost:8080/"
    },
    "id": "08f2c1bb-6ec4-4001-93cb-10c37d52d5d3",
    "outputId": "6ad84cb3-0ed9-4a88-f267-3a9055a0cf50"
   },
   "outputs": [
    {
     "name": "stdout",
     "output_type": "stream",
     "text": [
      "Duplicate rows: 25\n"
     ]
    }
   ],
   "source": [
    "print(f'Duplicate rows: {df.duplicated().sum()}')"
   ]
  },
  {
   "cell_type": "code",
   "execution_count": 539,
   "id": "2c15b7ff-dfa1-4597-a5b8-d6ebd235be83",
   "metadata": {
    "id": "2c15b7ff-dfa1-4597-a5b8-d6ebd235be83"
   },
   "outputs": [],
   "source": [
    "# Remove duplicate rows\n",
    "df.drop_duplicates(inplace=True)"
   ]
  },
  {
   "cell_type": "markdown",
   "id": "09c161d9-1652-478f-b10f-0d712bcad8cb",
   "metadata": {
    "id": "30f48e29-7d92-4504-b040-9b3f0b83ed87"
   },
   "source": [
    "**<p style=\"font-size:18px;\">Scaling and Encoding</p>** "
   ]
  },
  {
   "cell_type": "code",
   "execution_count": 540,
   "id": "aad8f012-5e57-418e-ae6e-a48e722ad63d",
   "metadata": {},
   "outputs": [
    {
     "name": "stdout",
     "output_type": "stream",
     "text": [
      "   cement  blast_furnace_slag  fly_ash  water  superplasticizer  \\\n",
      "0   540.0                 0.0      0.0  162.0               2.5   \n",
      "1   540.0                 0.0      0.0  162.0               2.5   \n",
      "2   332.5               142.5      0.0  228.0               0.0   \n",
      "3   332.5               142.5      0.0  228.0               0.0   \n",
      "4   198.6               132.4      0.0  192.0               0.0   \n",
      "\n",
      "   coarse_aggregate  fine_aggregate   age  concrete_compressive_strength  \n",
      "0            1040.0            676.0   28                          79.99  \n",
      "1            1055.0            676.0   28                          61.89  \n",
      "2             932.0            594.0  270                          40.27  \n",
      "3             932.0            594.0  365                          41.05  \n",
      "4             978.4            825.5  360                          44.30  \n",
      "Index(['cement', 'blast_furnace_slag', 'fly_ash', 'water', 'superplasticizer',\n",
      "       'coarse_aggregate', 'fine_aggregate ', 'age',\n",
      "       'concrete_compressive_strength'],\n",
      "      dtype='object')\n"
     ]
    }
   ],
   "source": [
    "print(df.head())\n",
    "print(df.columns)"
   ]
  },
  {
   "cell_type": "code",
   "execution_count": 541,
   "id": "7d2a0134-ad67-4f9a-b445-736cfacd5100",
   "metadata": {
    "id": "7d2a0134-ad67-4f9a-b445-736cfacd5100"
   },
   "outputs": [],
   "source": [
    "from sklearn.model_selection import train_test_split\n",
    "\n",
    "X = df.iloc[:, :-1] # All columns except the last\n",
    "y = df.iloc[:, -1] # The last column"
   ]
  },
  {
   "cell_type": "code",
   "execution_count": 542,
   "id": "7f4e3c7d-d340-4ef3-a826-b2ead546ddeb",
   "metadata": {},
   "outputs": [
    {
     "name": "stdout",
     "output_type": "stream",
     "text": [
      "(1005, 8)\n",
      "(1005,)\n"
     ]
    }
   ],
   "source": [
    "print(X.shape)\n",
    "print(y.shape)"
   ]
  },
  {
   "cell_type": "code",
   "execution_count": 543,
   "id": "b8919944-d878-4fed-afee-dbe16561684f",
   "metadata": {},
   "outputs": [
    {
     "name": "stdout",
     "output_type": "stream",
     "text": [
      "   cement  blast_furnace_slag  fly_ash  water  superplasticizer  \\\n",
      "0   540.0                 0.0      0.0  162.0               2.5   \n",
      "1   540.0                 0.0      0.0  162.0               2.5   \n",
      "2   332.5               142.5      0.0  228.0               0.0   \n",
      "3   332.5               142.5      0.0  228.0               0.0   \n",
      "4   198.6               132.4      0.0  192.0               0.0   \n",
      "\n",
      "   coarse_aggregate  fine_aggregate   age  \n",
      "0            1040.0            676.0   28  \n",
      "1            1055.0            676.0   28  \n",
      "2             932.0            594.0  270  \n",
      "3             932.0            594.0  365  \n",
      "4             978.4            825.5  360  \n"
     ]
    }
   ],
   "source": [
    "print(X.head())"
   ]
  },
  {
   "cell_type": "code",
   "execution_count": 544,
   "id": "704c9cfa-9b0f-4ee7-9351-3a75a79c2a1a",
   "metadata": {},
   "outputs": [],
   "source": [
    "from sklearn.model_selection import train_test_split\n",
    "from sklearn.preprocessing import StandardScaler\n",
    "\n",
    "# Split data\n",
    "X_train, X_test, y_train, y_test = train_test_split(X, y, test_size=0.3, random_state=42)\n",
    "\n",
    "# Scale features\n",
    "scaler = StandardScaler()\n",
    "X_train_scaled = scaler.fit_transform(X_train)\n",
    "X_test_scaled = scaler.transform(X_test)\n"
   ]
  },
  {
   "cell_type": "code",
   "execution_count": 545,
   "id": "c9590511-f8bd-451b-98e2-0e3d519bb67b",
   "metadata": {
    "colab": {
     "base_uri": "https://localhost:8080/"
    },
    "id": "c9590511-f8bd-451b-98e2-0e3d519bb67b",
    "outputId": "30d15b92-744a-457c-fb6d-f5e987d630ef"
   },
   "outputs": [
    {
     "name": "stdout",
     "output_type": "stream",
     "text": [
      "First 5 rows of scaled training data:\n",
      "[[-0.7036142   0.7362629  -0.8810702   0.1799759  -1.0226942   1.32341753\n",
      "  -0.17765612 -0.62455318]\n",
      " [-0.83112259 -0.84582676  1.04788182 -0.72981642  0.63596651  1.35948653\n",
      "   0.32102131  0.88513966]\n",
      " [ 0.43140366  1.06620495 -0.8810702   0.38479825 -0.18498677 -1.33280675\n",
      "   0.00745899 -0.28365479]\n",
      " [-1.05233032  0.66864226  1.10026551 -0.30588178  0.28412939  0.42298068\n",
      "  -0.33758549 -0.51092038]\n",
      " [-1.17404287 -0.84582676  1.31904441  0.5419875   0.50193332 -1.24005789\n",
      "   1.18741037 -0.28365479]]\n"
     ]
    }
   ],
   "source": [
    "print(\"First 5 rows of scaled training data:\")\n",
    "print(X_train_scaled[:5])"
   ]
  },
  {
   "cell_type": "markdown",
   "id": "8afa0bd9-28a9-45cc-9ba4-ad67062e2d75",
   "metadata": {
    "id": "78d90124-ed32-4fe9-a9e9-1be683f411d1"
   },
   "source": [
    "**<p style=\"font-size:18px;\">Artificial Neural Network (ANN)</p>**\n",
    "Below are the implementations of the ANN to train and predict concrete compressive strength"
   ]
  },
  {
   "cell_type": "code",
   "execution_count": 546,
   "id": "f36052af-8785-4f80-a652-a174b844c476",
   "metadata": {
    "id": "f36052af-8785-4f80-a652-a174b844c476"
   },
   "outputs": [],
   "source": [
    "class activationFunction:\n",
    "    def logisticFunction(x):\n",
    "        return 1 / (1 + np.exp(-x))\n",
    "\n",
    "    def reluFunction(x):\n",
    "        return np.maximum(0, x)\n",
    "\n",
    "    def hyperbolicFunction(x):\n",
    "        return np.tanh(x)\n",
    "\n",
    "    def leakyReLU(x, alpha=0.01):\n",
    "        return np.maximum(x, alpha * x)\n",
    "\n",
    "    def linearFunction(x):  # Identity function for regression output\n",
    "        return x\n",
    "    \n",
    "    # def elu(x, alpha=1.0):\n",
    "    #     return np.where(x > 0, x, alpha * (np.exp(x) - 1))\n",
    "\n",
    "class ArtificialNeuralNetwork:\n",
    "    def __init__(self, layerSize, activationFunction):\n",
    "        self.layerSize = layerSize\n",
    "        self.activationFunction = activationFunction\n",
    "        self.weights = [np.random.randn(layer_sizes[i], layer_sizes[i + 1]) * np.sqrt(2 / layer_sizes[i]) for i in range(len(layer_sizes) - 1)]\n",
    "        self.biases = [np.random.randn(1, layer_sizes[i + 1]) for i in range(len(layer_sizes) - 1)]\n",
    "\n",
    "    def forwardPropagation(self, x):\n",
    "        output = x\n",
    "        for i in range(len(self.weights)):\n",
    "            matrix_total = np.dot(output, self.weights[i]) + self.biases[i]\n",
    "            output = self.activationFunction[i](matrix_total)  \n",
    "        return output"
   ]
  },
  {
   "cell_type": "markdown",
   "id": "0ea27674-968b-40b5-8b31-c4de3365a346",
   "metadata": {
    "id": "1ed5052f-91c5-4274-befd-9730ed83beb7"
   },
   "source": [
    "Layer size is structure to be 8,16,8,1 because \n",
    "- 8 input layers\n",
    "- 16 neurons in first hidden layer\n",
    "- 8 for the second hidden layer\n",
    "- 1 for the output layer<p>\n",
    "This is to check the predicted values generated after forward propagation from the ANN.</p>"
   ]
  },
  {
   "cell_type": "code",
   "execution_count": 547,
   "id": "8c52e988-67b2-445f-ba2a-1b11eabc73d8",
   "metadata": {
    "colab": {
     "base_uri": "https://localhost:8080/"
    },
    "id": "8c52e988-67b2-445f-ba2a-1b11eabc73d8",
    "outputId": "8d0ca147-206a-48fa-ccf8-a9b7b0eac212"
   },
   "outputs": [
    {
     "name": "stdout",
     "output_type": "stream",
     "text": [
      "ANN Output (Sample Predictions): [[-2.2225788 ]\n",
      " [-2.19633093]\n",
      " [-2.13489117]\n",
      " [-1.89494876]\n",
      " [-2.08743616]\n",
      " [-2.43279361]\n",
      " [-2.5199721 ]\n",
      " [-2.36410738]]\n"
     ]
    }
   ],
   "source": [
    "layer_sizes = [8, 16, 8, 1]\n",
    "\n",
    "activation_functions = [\n",
    "    activationFunction.logisticFunction,\n",
    "    activationFunction.reluFunction,\n",
    "    activationFunction.linearFunction,\n",
    "]\n",
    "ann = ArtificialNeuralNetwork(layer_sizes, activation_functions)\n",
    "\n",
    "x_example = np.random.rand(8, 8)  #8 samples, 8 features\n",
    "output = ann.forwardPropagation(x_example)\n",
    "print(\"ANN Output (Sample Predictions):\", output)"
   ]
  },
  {
   "cell_type": "markdown",
   "id": "53d093ea-6808-4968-8508-d6f304cf2453",
   "metadata": {
    "id": "78632050-f421-43b0-ab60-642af572e692"
   },
   "source": [
    "**<p style=\"font-size:18px;\">Loss Function</p>**\n",
    "Since the problem domian is regression, MSE is utilised as the loss function"
   ]
  },
  {
   "cell_type": "code",
   "execution_count": 548,
   "id": "37370e3e-512a-42a9-a622-35d32b96af49",
   "metadata": {
    "id": "37370e3e-512a-42a9-a622-35d32b96af49"
   },
   "outputs": [],
   "source": [
    "class lossFunction:\n",
    "    def evaluate(self, y_pred, y_train):\n",
    "        pass\n",
    "class MeanSquaredError(lossFunction):\n",
    "    def evaluate(self, y_pred, y_train):\n",
    "        return np.mean((y_pred - y_train) ** 2)"
   ]
  },
  {
   "cell_type": "code",
   "execution_count": 549,
   "id": "465dcf79-542a-4fa4-b5de-a4a1da002e8e",
   "metadata": {
    "id": "465dcf79-542a-4fa4-b5de-a4a1da002e8e",
    "outputId": "e4834fcc-a4d2-4aa2-b316-c4e5ccfbcc94"
   },
   "outputs": [
    {
     "name": "stdout",
     "output_type": "stream",
     "text": [
      "y_pred shape: (703, 1)\n",
      "y_train shape: (703, 1)\n",
      "Loss: 1648.9327764364702\n"
     ]
    }
   ],
   "source": [
    "y_train = y_train.to_numpy().reshape(-1, 1) # making y_train 2D\n",
    "y_pred = ann.forwardPropagation(X_train_scaled) # Forward propagating  through the ANN\n",
    "\n",
    "# checking y_pred and y_train has the correct shape\n",
    "print(\"y_pred shape:\", y_pred.shape) \n",
    "print(\"y_train shape:\", y_train.shape)\n",
    "\n",
    "# use to calculate the loss function\n",
    "loss = loss_function.evaluate(y_pred, y_train)\n",
    "print(\"Loss:\", loss)"
   ]
  },
  {
   "cell_type": "markdown",
   "id": "da7df601-b058-4105-bdd4-8ddd878a28fe",
   "metadata": {
    "id": "75222630-f415-4b05-bdf5-778ea94c3c0d"
   },
   "source": [
    "**<p style=\"font-size:18px;\">Implement PSO Algorithm</p>**"
   ]
  },
  {
   "cell_type": "code",
   "execution_count": 550,
   "id": "9917bcd6-8081-4101-9a56-67827043922b",
   "metadata": {
    "id": "9917bcd6-8081-4101-9a56-67827043922b"
   },
   "outputs": [],
   "source": [
    "class Particle:\n",
    "    def __init__(self,vectorSize):\n",
    "            self.particlePosition=np.random.rand(vectorSize)\n",
    "            self.particleVelocity=np.random.rand(vectorSize)\n",
    "            self.bestPosition=np.copy(self.particlePosition)\n",
    "            self.informants=[]"
   ]
  },
  {
   "cell_type": "code",
   "execution_count": 551,
   "id": "ff9b7e2d-aa7c-410a-a632-6054362aba9e",
   "metadata": {
    "id": "ff9b7e2d-aa7c-410a-a632-6054362aba9e"
   },
   "outputs": [],
   "source": [
    "def particleToAnn(particle, annLayers, activationFunctions):\n",
    "    neuralNetwork = ArtificialNeuralNetwork(layerSize=annLayers, activationFunction=activationFunctions)\n",
    "    weightBiasIndexCount = 0\n",
    "    for i in range(len(annLayers) - 1):\n",
    "        prevValue = annLayers[i]\n",
    "        nextValue = annLayers[i + 1]\n",
    "        weightRange = prevValue * nextValue\n",
    "        \n",
    "        weight = particle.particlePosition[weightBiasIndexCount:weightBiasIndexCount + weightRange].reshape((prevValue, nextValue))\n",
    "        weightBiasIndexCount += weightRange\n",
    "        \n",
    "        biases = particle.particlePosition[weightBiasIndexCount:weightBiasIndexCount + nextValue].reshape((1, nextValue))\n",
    "        weightBiasIndexCount += nextValue\n",
    "        \n",
    "        # activation = activationFunctions[i]\n",
    "        neuralNetwork.weights[i] = weight\n",
    "        neuralNetwork.biases[i] = biases\n",
    "    return neuralNetwork"
   ]
  },
  {
   "cell_type": "code",
   "execution_count": 552,
   "id": "q8TWIiVxbKSz",
   "metadata": {
    "id": "q8TWIiVxbKSz"
   },
   "outputs": [],
   "source": [
    "def assessFitness(particle, dataset, annLayers, activationFunctions, lossFunction):\n",
    "    x, y = dataset\n",
    "    ann = particleToAnn(particle, annLayers, activationFunctions)\n",
    "    predictions = ann.forwardPropagation(x)  # No transpose here\n",
    "    loss = lossFunction.evaluate(predictions, y.reshape(-1, 1))\n",
    "    return loss"
   ]
  },
  {
   "cell_type": "code",
   "execution_count": 553,
   "id": "hg18WNeDa2Gp",
   "metadata": {
    "id": "hg18WNeDa2Gp"
   },
   "outputs": [],
   "source": [
    "class ParticleSwarmOptimisation:\n",
    "    def __init__(self, swarmSize, alpha, beta, delta, omega, jumpSize, informantCount, vectorSize):\n",
    "        self.swarmSize = swarmSize\n",
    "        self.alpha = alpha\n",
    "        self.beta = beta\n",
    "        self.delta = delta\n",
    "        self.omega = omega\n",
    "        self.jumpSize = jumpSize\n",
    "        self.informantCount = informantCount\n",
    "        self.vectorSize = vectorSize\n",
    "        self.global_best = None\n",
    "        self.global_best_fitness = float('inf')\n",
    "\n",
    "    def initInformants(self, informantCount, particleArray):\n",
    "        for p in particleArray:\n",
    "            potentialInformants = [potInf for potInf in particleArray if potInf != p]\n",
    "            p.informants = [random.choice(potentialInformants) for _ in range(informantCount)]\n",
    "\n",
    "    def get_best_informant(self, particle, dataset, annLayers, activationFunctions, lossFunction):\n",
    "        bestInf = None\n",
    "        bestFitnessInf = float('-inf')\n",
    "        for i in particle.informants:\n",
    "            fitness = assessFitness(i, dataset, annLayers, activationFunctions, lossFunction)\n",
    "            if fitness > bestFitnessInf:\n",
    "                bestFitnessInf = fitness\n",
    "                bestInf = i\n",
    "        return bestInf.particlePosition\n",
    "\n",
    "    def psoOptimisation(self, swarmSize, alpha, beta, gamma, jumpSize, informantCount, vectorSize,\n",
    "                        dataset, annLayers, activationFunctions, lossFunction, max_iterations=100):\n",
    "        # Initialize particles\n",
    "        particleArray = [Particle(vectorSize) for _ in range(swarmSize)]\n",
    "        self.initInformants(informantCount, particleArray)\n",
    "\n",
    "        best = None\n",
    "        iteration = 0\n",
    "\n",
    "        while iteration < max_iterations:\n",
    "            # Update global best\n",
    "            for p in particleArray:\n",
    "                particleFitness = assessFitness(p, dataset, annLayers, activationFunctions, lossFunction)\n",
    "                if best is None or particleFitness < assessFitness(best, dataset, annLayers, activationFunctions, lossFunction):\n",
    "                    best = p\n",
    "\n",
    "            for p in particleArray:\n",
    "                previousBest = p.bestPosition\n",
    "                informantsBest = self.get_best_informant(p, dataset, annLayers, activationFunctions, lossFunction)\n",
    "                allBest = best.bestPosition\n",
    "\n",
    "                b = np.random.uniform(0.0, beta)\n",
    "                c = np.random.uniform(0.0, gamma)\n",
    "                d = np.random.uniform(0.0, delta)\n",
    "\n",
    "                updatedVelocity = (\n",
    "                    alpha * p.particleVelocity +\n",
    "                    b * (previousBest - p.particlePosition) +\n",
    "                    c * (informantsBest - p.particlePosition) +\n",
    "                    d * (allBest - p.particlePosition)\n",
    "                )\n",
    "\n",
    "                p.particleVelocity = updatedVelocity\n",
    "                p.particlePosition += jumpSize * updatedVelocity\n",
    "\n",
    "            iteration += 1\n",
    "\n",
    "        return best.particlePosition\n"
   ]
  },
  {
   "cell_type": "raw",
   "id": "0488b99f-919b-42f0-9cb0-dc339e96eaf7",
   "metadata": {},
   "source": [
    "<p style=\"font-size:18px;\">Test out PSO Functionality</p>"
   ]
  },
  {
   "cell_type": "code",
   "execution_count": 554,
   "id": "7142ac47-5039-45b7-9b10-452967e23575",
   "metadata": {},
   "outputs": [
    {
     "name": "stdout",
     "output_type": "stream",
     "text": [
      "Optimized ANN Parameters: [0.37063912 0.85657189 0.71364493 0.89525127 0.72295771 0.72459837\n",
      " 0.87796412 0.46690263 0.3764366  0.30163179 0.32721622 0.12581728\n",
      " 0.10953848 0.47870397 0.33446195 0.58098229 0.43235957 0.58103131\n",
      " 0.65918954 0.22166548 0.50339125 0.28006496 0.49545798 0.62956981\n",
      " 0.37426486 0.6580594  0.94939656 0.61317097 0.4392104  0.86711004\n",
      " 0.21082697 0.5462845  0.54813267 0.9297299  0.52988234 0.25358172\n",
      " 0.19915285 0.71739453 0.15470174 0.31252236 0.53101414 0.40472971\n",
      " 0.7659862  0.47804869 0.45129872 0.75487284 0.82833808 0.70697734\n",
      " 0.8278776  0.43473115 0.09947274 0.82439813 0.56989926 0.07693777\n",
      " 0.48818849 0.74107199 0.50456122 0.21133853 0.23317936 0.44011782\n",
      " 0.71772847 0.50590969 0.77930805 0.38886539 0.2514252  0.6522236\n",
      " 0.78898921 0.82624902 0.38974497 0.19924354 0.48856379 0.28597786\n",
      " 0.85035908 0.5683979  0.85136676 0.50208929 0.7814206  0.21899166\n",
      " 0.25350955 0.30980769 0.62983002 0.54761141 0.47579507 0.64438384\n",
      " 0.3003716  0.30941264 0.34934108 0.8583533  0.85944478 0.2334337\n",
      " 0.62291504 0.4022634  0.23400687 0.54977322 0.27851022 0.56084103\n",
      " 0.67524034 0.75056347 0.61757113 0.54532133 0.5717798  0.54062082\n",
      " 0.41770231 0.26455896 0.36830136 0.63119911 0.25397809 0.69966713\n",
      " 0.52453481 0.22776684 0.4384192  0.46165596 0.65304656 0.63341474\n",
      " 0.41192062 0.30915613 0.87352117 0.25333537 0.61350659 0.31828953\n",
      " 0.14796663 0.81062886 0.57892981 0.54739585 0.45418881 0.40556583\n",
      " 0.51289401 0.44919871 0.32274146 0.79599206 0.46967819 0.58595726\n",
      " 0.58049235 0.53406414 0.39976108 0.83807897 0.72193107 0.21879643\n",
      " 0.81849703 0.51061416 0.2949598  0.70040388 0.42617638 0.23219057\n",
      " 0.71814545 0.41948692 0.58863962 0.36197713 0.32507217 0.22591225\n",
      " 0.41213702 0.1984687  0.51222806 0.31722291 0.39443546 0.64276056\n",
      " 0.6507401  0.7116604  0.59863483 0.64980327 0.35665711 0.82367152\n",
      " 0.52727273 0.84443742 0.35814878 0.32921636 0.65054039 0.36667335\n",
      " 0.38017885 0.22622824 0.24521864 0.77401965 0.6862621  0.48717788\n",
      " 0.25455673 0.6818672  0.68878933 0.33565279 0.6698049  0.47276643\n",
      " 0.46875017 0.55387078 0.36919841 0.5003455  0.19840043 0.49378799\n",
      " 0.28584544 0.65744233 0.15189053 0.43932946 0.70704413 0.20174194\n",
      " 0.44381785 0.37224854 0.38962356 0.73036645 0.22134497 0.75653543\n",
      " 0.73296405 0.68937021 0.5400061  0.55903803 0.58517653 0.81801968\n",
      " 0.76506978 0.33308078 0.62885308 0.50182601 0.64091188 0.4016065\n",
      " 0.11472982 0.88319081 0.69931724 0.89949424 0.34632055 0.71018543\n",
      " 0.67433908 0.68324595 0.45172316 0.44866573 0.43680572 0.31789208\n",
      " 0.18659989 0.89556822 0.3329378  0.26904727 0.58792563 0.2104427\n",
      " 0.39083934 0.68484571 0.87231355 0.21740284 0.52760433 0.84147785\n",
      " 0.76063276 0.71510767 0.71110746 0.91658523 0.41315265 0.78586585\n",
      " 0.38256043 0.42855871 0.82614075 0.3986327  0.15116137 0.17769209\n",
      " 0.48289816 0.29464717 0.54672953 0.21040921 0.59851857 0.64393552\n",
      " 0.53031207 0.66496548 0.48088499 0.55634606 0.46798261 0.34879588\n",
      " 0.45759283 0.79577824 0.13349563 0.76721127 0.61912039 0.29816224\n",
      " 0.50699734 0.42699888 0.4032222  0.56116922 0.77464769 0.57338001\n",
      " 0.14704113 0.1564852  0.41249282 0.566539   0.53484956 0.44050432\n",
      " 0.83990017 0.75831523 0.6956743  0.85821257 0.20428134 0.19350846\n",
      " 0.41773157 0.49852349 0.32483339 0.24506957 0.15968436 0.59594681\n",
      " 0.13588545]\n"
     ]
    }
   ],
   "source": [
    "# Code to test out PSO functionality\n",
    "X_train_scaled = np.random.rand(100, 8)  # Simulated scaled training features (100 samples, 8 features)\n",
    "y_train = np.random.rand(100, 1)  # Simulated training labels (100 samples, 1 output)\n",
    "\n",
    "# define hyperparameters for PSO \n",
    "swarmSize = 10\n",
    "alpha = 0.5  # Inertia weight\n",
    "beta = 0.5   # Cognitive parameter\n",
    "delta = 0.5  # Social parameter\n",
    "jumpSize = 0.5\n",
    "informantCount = 3\n",
    "vectorSize = sum([(annLayers[i] * annLayers[i + 1]) + annLayers[i + 1] for i in range(len(annLayers) - 1)])  # Total weights + biases\n",
    "max_iterations = 50\n",
    "\n",
    "# initialize the PSO optimizer\n",
    "pso = ParticleSwarmOptimisation(\n",
    "    swarmSize = swarmSize,\n",
    "    alpha = alpha,\n",
    "    beta = beta,\n",
    "    delta = delta,\n",
    "    omega = omega,\n",
    "    jumpSize = jumpSize,\n",
    "    informantCount = informantCount,\n",
    "    vectorSize = vectorSize\n",
    ")\n",
    "\n",
    "# run it into the psoOptimization\n",
    "best_parameters = pso.psoOptimisation(\n",
    "    swarmSize = swarmSize,\n",
    "    alpha = alpha,\n",
    "    beta = beta,\n",
    "    gamma = delta,  # Using delta as gamma as per your code\n",
    "    jumpSize = jumpSize,\n",
    "    informantCount = informantCount,\n",
    "    vectorSize = vectorSize,\n",
    "    \n",
    "    dataset = (X_train_scaled, y_train),\n",
    "    annLayers = annLayers,\n",
    "    activationFunctions = activationFunctions,\n",
    "    lossFunction = MeanSquaredError(),\n",
    "    max_iterations = max_iterations\n",
    ")\n",
    "print(\"Optimized ANN Parameters:\", best_parameters)"
   ]
  },
  {
   "cell_type": "markdown",
   "id": "29e24b50-1bcc-4b93-9928-8e71217a810c",
   "metadata": {},
   "source": [
    "<p style=\"font-size:18px;\">Get Fitness Value</p>\n",
    "The final fitness represents the performance of the ANN after its weights and biases have been optimized by the PSO"
   ]
  },
  {
   "cell_type": "code",
   "execution_count": 555,
   "id": "eda889e9-90ee-433d-a42f-f7c40e047b9b",
   "metadata": {},
   "outputs": [
    {
     "name": "stdout",
     "output_type": "stream",
     "text": [
      "Fitness Value: 0.35703250820933297\n"
     ]
    }
   ],
   "source": [
    "# Create a dummy particle and assign the optimized parameters\n",
    "optimized_particle = Particle(vectorSize)\n",
    "optimized_particle.particlePosition = best_parameters\n",
    "\n",
    "# Convert the optimized particle position back to ANN weights and biases\n",
    "optimized_ann = particleToAnn(\n",
    "    optimized_particle,  # Pass the particle object\n",
    "    annLayers,\n",
    "    activationFunctions\n",
    ")\n",
    "\n",
    "# Assess the ANN with the optimized parameters\n",
    "fitness_value = assessFitness(\n",
    "    optimized_particle,  # Pass the particle object for fitness evaluation\n",
    "    dataset = (X_train_scaled, y_train),\n",
    "    annLayers = annLayers,\n",
    "    activationFunctions = activationFunctions,\n",
    "    lossFunction = MeanSquaredError()\n",
    ")\n",
    "print(\"Fitness Value:\", fitness_value)"
   ]
  }
 ],
 "metadata": {
  "colab": {
   "provenance": []
  },
  "kernelspec": {
   "display_name": "Python 3 (ipykernel)",
   "language": "python",
   "name": "python3"
  },
  "language_info": {
   "codemirror_mode": {
    "name": "ipython",
    "version": 3
   },
   "file_extension": ".py",
   "mimetype": "text/x-python",
   "name": "python",
   "nbconvert_exporter": "python",
   "pygments_lexer": "ipython3",
   "version": "3.12.7"
  }
 },
 "nbformat": 4,
 "nbformat_minor": 5
}
