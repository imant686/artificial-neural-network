{
  "cells": [
    {
      "cell_type": "markdown",
      "id": "de3925d8-7b06-4660-a261-6c6122725df7",
      "metadata": {
        "id": "de3925d8-7b06-4660-a261-6c6122725df7"
      },
      "source": [
        "**F21BC**"
      ]
    },
    {
      "cell_type": "code",
      "execution_count": null,
      "id": "3a814445-6960-4c14-9e10-edfba438d3a8",
      "metadata": {
        "id": "3a814445-6960-4c14-9e10-edfba438d3a8"
      },
      "outputs": [],
      "source": [
        "import pandas as pd\n",
        "import numpy as np\n",
        "import matplotlib.pyplot as plt\n",
        "import seaborn as sns\n",
        "from sklearn.preprocessing import LabelEncoder, StandardScaler"
      ]
    },
    {
      "cell_type": "code",
      "execution_count": null,
      "id": "f86173b9-c298-4a34-98c2-74a443f8e0a0",
      "metadata": {
        "id": "f86173b9-c298-4a34-98c2-74a443f8e0a0"
      },
      "outputs": [],
      "source": [
        "df=pd.read_csv('concrete_data.csv')\n"
      ]
    },
    {
      "cell_type": "markdown",
      "id": "843c348c-6f4f-49a1-af31-fea72a3bf915",
      "metadata": {
        "id": "843c348c-6f4f-49a1-af31-fea72a3bf915"
      },
      "source": [
        "**Viewing the first few instances of the data**"
      ]
    },
    {
      "cell_type": "code",
      "execution_count": null,
      "id": "5650ca39-2c52-45cf-800e-778720fa11d8",
      "metadata": {
        "id": "5650ca39-2c52-45cf-800e-778720fa11d8",
        "outputId": "fd7be3b5-3708-40c1-b7be-01f4a9dc68c6",
        "colab": {
          "base_uri": "https://localhost:8080/",
          "height": 226
        }
      },
      "outputs": [
        {
          "output_type": "execute_result",
          "data": {
            "text/plain": [
              "   cement  blast_furnace_slag  fly_ash  water  superplasticizer  \\\n",
              "0   540.0                 0.0      0.0  162.0               2.5   \n",
              "1   540.0                 0.0      0.0  162.0               2.5   \n",
              "2   332.5               142.5      0.0  228.0               0.0   \n",
              "3   332.5               142.5      0.0  228.0               0.0   \n",
              "4   198.6               132.4      0.0  192.0               0.0   \n",
              "\n",
              "   coarse_aggregate  fine_aggregate   age  concrete_compressive_strength  \n",
              "0            1040.0            676.0   28                          79.99  \n",
              "1            1055.0            676.0   28                          61.89  \n",
              "2             932.0            594.0  270                          40.27  \n",
              "3             932.0            594.0  365                          41.05  \n",
              "4             978.4            825.5  360                          44.30  "
            ],
            "text/html": [
              "\n",
              "  <div id=\"df-c5e3e18e-069e-4d7d-90b7-6572a7132289\" class=\"colab-df-container\">\n",
              "    <div>\n",
              "<style scoped>\n",
              "    .dataframe tbody tr th:only-of-type {\n",
              "        vertical-align: middle;\n",
              "    }\n",
              "\n",
              "    .dataframe tbody tr th {\n",
              "        vertical-align: top;\n",
              "    }\n",
              "\n",
              "    .dataframe thead th {\n",
              "        text-align: right;\n",
              "    }\n",
              "</style>\n",
              "<table border=\"1\" class=\"dataframe\">\n",
              "  <thead>\n",
              "    <tr style=\"text-align: right;\">\n",
              "      <th></th>\n",
              "      <th>cement</th>\n",
              "      <th>blast_furnace_slag</th>\n",
              "      <th>fly_ash</th>\n",
              "      <th>water</th>\n",
              "      <th>superplasticizer</th>\n",
              "      <th>coarse_aggregate</th>\n",
              "      <th>fine_aggregate</th>\n",
              "      <th>age</th>\n",
              "      <th>concrete_compressive_strength</th>\n",
              "    </tr>\n",
              "  </thead>\n",
              "  <tbody>\n",
              "    <tr>\n",
              "      <th>0</th>\n",
              "      <td>540.0</td>\n",
              "      <td>0.0</td>\n",
              "      <td>0.0</td>\n",
              "      <td>162.0</td>\n",
              "      <td>2.5</td>\n",
              "      <td>1040.0</td>\n",
              "      <td>676.0</td>\n",
              "      <td>28</td>\n",
              "      <td>79.99</td>\n",
              "    </tr>\n",
              "    <tr>\n",
              "      <th>1</th>\n",
              "      <td>540.0</td>\n",
              "      <td>0.0</td>\n",
              "      <td>0.0</td>\n",
              "      <td>162.0</td>\n",
              "      <td>2.5</td>\n",
              "      <td>1055.0</td>\n",
              "      <td>676.0</td>\n",
              "      <td>28</td>\n",
              "      <td>61.89</td>\n",
              "    </tr>\n",
              "    <tr>\n",
              "      <th>2</th>\n",
              "      <td>332.5</td>\n",
              "      <td>142.5</td>\n",
              "      <td>0.0</td>\n",
              "      <td>228.0</td>\n",
              "      <td>0.0</td>\n",
              "      <td>932.0</td>\n",
              "      <td>594.0</td>\n",
              "      <td>270</td>\n",
              "      <td>40.27</td>\n",
              "    </tr>\n",
              "    <tr>\n",
              "      <th>3</th>\n",
              "      <td>332.5</td>\n",
              "      <td>142.5</td>\n",
              "      <td>0.0</td>\n",
              "      <td>228.0</td>\n",
              "      <td>0.0</td>\n",
              "      <td>932.0</td>\n",
              "      <td>594.0</td>\n",
              "      <td>365</td>\n",
              "      <td>41.05</td>\n",
              "    </tr>\n",
              "    <tr>\n",
              "      <th>4</th>\n",
              "      <td>198.6</td>\n",
              "      <td>132.4</td>\n",
              "      <td>0.0</td>\n",
              "      <td>192.0</td>\n",
              "      <td>0.0</td>\n",
              "      <td>978.4</td>\n",
              "      <td>825.5</td>\n",
              "      <td>360</td>\n",
              "      <td>44.30</td>\n",
              "    </tr>\n",
              "  </tbody>\n",
              "</table>\n",
              "</div>\n",
              "    <div class=\"colab-df-buttons\">\n",
              "\n",
              "  <div class=\"colab-df-container\">\n",
              "    <button class=\"colab-df-convert\" onclick=\"convertToInteractive('df-c5e3e18e-069e-4d7d-90b7-6572a7132289')\"\n",
              "            title=\"Convert this dataframe to an interactive table.\"\n",
              "            style=\"display:none;\">\n",
              "\n",
              "  <svg xmlns=\"http://www.w3.org/2000/svg\" height=\"24px\" viewBox=\"0 -960 960 960\">\n",
              "    <path d=\"M120-120v-720h720v720H120Zm60-500h600v-160H180v160Zm220 220h160v-160H400v160Zm0 220h160v-160H400v160ZM180-400h160v-160H180v160Zm440 0h160v-160H620v160ZM180-180h160v-160H180v160Zm440 0h160v-160H620v160Z\"/>\n",
              "  </svg>\n",
              "    </button>\n",
              "\n",
              "  <style>\n",
              "    .colab-df-container {\n",
              "      display:flex;\n",
              "      gap: 12px;\n",
              "    }\n",
              "\n",
              "    .colab-df-convert {\n",
              "      background-color: #E8F0FE;\n",
              "      border: none;\n",
              "      border-radius: 50%;\n",
              "      cursor: pointer;\n",
              "      display: none;\n",
              "      fill: #1967D2;\n",
              "      height: 32px;\n",
              "      padding: 0 0 0 0;\n",
              "      width: 32px;\n",
              "    }\n",
              "\n",
              "    .colab-df-convert:hover {\n",
              "      background-color: #E2EBFA;\n",
              "      box-shadow: 0px 1px 2px rgba(60, 64, 67, 0.3), 0px 1px 3px 1px rgba(60, 64, 67, 0.15);\n",
              "      fill: #174EA6;\n",
              "    }\n",
              "\n",
              "    .colab-df-buttons div {\n",
              "      margin-bottom: 4px;\n",
              "    }\n",
              "\n",
              "    [theme=dark] .colab-df-convert {\n",
              "      background-color: #3B4455;\n",
              "      fill: #D2E3FC;\n",
              "    }\n",
              "\n",
              "    [theme=dark] .colab-df-convert:hover {\n",
              "      background-color: #434B5C;\n",
              "      box-shadow: 0px 1px 3px 1px rgba(0, 0, 0, 0.15);\n",
              "      filter: drop-shadow(0px 1px 2px rgba(0, 0, 0, 0.3));\n",
              "      fill: #FFFFFF;\n",
              "    }\n",
              "  </style>\n",
              "\n",
              "    <script>\n",
              "      const buttonEl =\n",
              "        document.querySelector('#df-c5e3e18e-069e-4d7d-90b7-6572a7132289 button.colab-df-convert');\n",
              "      buttonEl.style.display =\n",
              "        google.colab.kernel.accessAllowed ? 'block' : 'none';\n",
              "\n",
              "      async function convertToInteractive(key) {\n",
              "        const element = document.querySelector('#df-c5e3e18e-069e-4d7d-90b7-6572a7132289');\n",
              "        const dataTable =\n",
              "          await google.colab.kernel.invokeFunction('convertToInteractive',\n",
              "                                                    [key], {});\n",
              "        if (!dataTable) return;\n",
              "\n",
              "        const docLinkHtml = 'Like what you see? Visit the ' +\n",
              "          '<a target=\"_blank\" href=https://colab.research.google.com/notebooks/data_table.ipynb>data table notebook</a>'\n",
              "          + ' to learn more about interactive tables.';\n",
              "        element.innerHTML = '';\n",
              "        dataTable['output_type'] = 'display_data';\n",
              "        await google.colab.output.renderOutput(dataTable, element);\n",
              "        const docLink = document.createElement('div');\n",
              "        docLink.innerHTML = docLinkHtml;\n",
              "        element.appendChild(docLink);\n",
              "      }\n",
              "    </script>\n",
              "  </div>\n",
              "\n",
              "\n",
              "<div id=\"df-276377c5-e30a-4e69-854e-0cec82b591a1\">\n",
              "  <button class=\"colab-df-quickchart\" onclick=\"quickchart('df-276377c5-e30a-4e69-854e-0cec82b591a1')\"\n",
              "            title=\"Suggest charts\"\n",
              "            style=\"display:none;\">\n",
              "\n",
              "<svg xmlns=\"http://www.w3.org/2000/svg\" height=\"24px\"viewBox=\"0 0 24 24\"\n",
              "     width=\"24px\">\n",
              "    <g>\n",
              "        <path d=\"M19 3H5c-1.1 0-2 .9-2 2v14c0 1.1.9 2 2 2h14c1.1 0 2-.9 2-2V5c0-1.1-.9-2-2-2zM9 17H7v-7h2v7zm4 0h-2V7h2v10zm4 0h-2v-4h2v4z\"/>\n",
              "    </g>\n",
              "</svg>\n",
              "  </button>\n",
              "\n",
              "<style>\n",
              "  .colab-df-quickchart {\n",
              "      --bg-color: #E8F0FE;\n",
              "      --fill-color: #1967D2;\n",
              "      --hover-bg-color: #E2EBFA;\n",
              "      --hover-fill-color: #174EA6;\n",
              "      --disabled-fill-color: #AAA;\n",
              "      --disabled-bg-color: #DDD;\n",
              "  }\n",
              "\n",
              "  [theme=dark] .colab-df-quickchart {\n",
              "      --bg-color: #3B4455;\n",
              "      --fill-color: #D2E3FC;\n",
              "      --hover-bg-color: #434B5C;\n",
              "      --hover-fill-color: #FFFFFF;\n",
              "      --disabled-bg-color: #3B4455;\n",
              "      --disabled-fill-color: #666;\n",
              "  }\n",
              "\n",
              "  .colab-df-quickchart {\n",
              "    background-color: var(--bg-color);\n",
              "    border: none;\n",
              "    border-radius: 50%;\n",
              "    cursor: pointer;\n",
              "    display: none;\n",
              "    fill: var(--fill-color);\n",
              "    height: 32px;\n",
              "    padding: 0;\n",
              "    width: 32px;\n",
              "  }\n",
              "\n",
              "  .colab-df-quickchart:hover {\n",
              "    background-color: var(--hover-bg-color);\n",
              "    box-shadow: 0 1px 2px rgba(60, 64, 67, 0.3), 0 1px 3px 1px rgba(60, 64, 67, 0.15);\n",
              "    fill: var(--button-hover-fill-color);\n",
              "  }\n",
              "\n",
              "  .colab-df-quickchart-complete:disabled,\n",
              "  .colab-df-quickchart-complete:disabled:hover {\n",
              "    background-color: var(--disabled-bg-color);\n",
              "    fill: var(--disabled-fill-color);\n",
              "    box-shadow: none;\n",
              "  }\n",
              "\n",
              "  .colab-df-spinner {\n",
              "    border: 2px solid var(--fill-color);\n",
              "    border-color: transparent;\n",
              "    border-bottom-color: var(--fill-color);\n",
              "    animation:\n",
              "      spin 1s steps(1) infinite;\n",
              "  }\n",
              "\n",
              "  @keyframes spin {\n",
              "    0% {\n",
              "      border-color: transparent;\n",
              "      border-bottom-color: var(--fill-color);\n",
              "      border-left-color: var(--fill-color);\n",
              "    }\n",
              "    20% {\n",
              "      border-color: transparent;\n",
              "      border-left-color: var(--fill-color);\n",
              "      border-top-color: var(--fill-color);\n",
              "    }\n",
              "    30% {\n",
              "      border-color: transparent;\n",
              "      border-left-color: var(--fill-color);\n",
              "      border-top-color: var(--fill-color);\n",
              "      border-right-color: var(--fill-color);\n",
              "    }\n",
              "    40% {\n",
              "      border-color: transparent;\n",
              "      border-right-color: var(--fill-color);\n",
              "      border-top-color: var(--fill-color);\n",
              "    }\n",
              "    60% {\n",
              "      border-color: transparent;\n",
              "      border-right-color: var(--fill-color);\n",
              "    }\n",
              "    80% {\n",
              "      border-color: transparent;\n",
              "      border-right-color: var(--fill-color);\n",
              "      border-bottom-color: var(--fill-color);\n",
              "    }\n",
              "    90% {\n",
              "      border-color: transparent;\n",
              "      border-bottom-color: var(--fill-color);\n",
              "    }\n",
              "  }\n",
              "</style>\n",
              "\n",
              "  <script>\n",
              "    async function quickchart(key) {\n",
              "      const quickchartButtonEl =\n",
              "        document.querySelector('#' + key + ' button');\n",
              "      quickchartButtonEl.disabled = true;  // To prevent multiple clicks.\n",
              "      quickchartButtonEl.classList.add('colab-df-spinner');\n",
              "      try {\n",
              "        const charts = await google.colab.kernel.invokeFunction(\n",
              "            'suggestCharts', [key], {});\n",
              "      } catch (error) {\n",
              "        console.error('Error during call to suggestCharts:', error);\n",
              "      }\n",
              "      quickchartButtonEl.classList.remove('colab-df-spinner');\n",
              "      quickchartButtonEl.classList.add('colab-df-quickchart-complete');\n",
              "    }\n",
              "    (() => {\n",
              "      let quickchartButtonEl =\n",
              "        document.querySelector('#df-276377c5-e30a-4e69-854e-0cec82b591a1 button');\n",
              "      quickchartButtonEl.style.display =\n",
              "        google.colab.kernel.accessAllowed ? 'block' : 'none';\n",
              "    })();\n",
              "  </script>\n",
              "</div>\n",
              "\n",
              "    </div>\n",
              "  </div>\n"
            ],
            "application/vnd.google.colaboratory.intrinsic+json": {
              "type": "dataframe",
              "variable_name": "df",
              "summary": "{\n  \"name\": \"df\",\n  \"rows\": 1030,\n  \"fields\": [\n    {\n      \"column\": \"cement\",\n      \"properties\": {\n        \"dtype\": \"number\",\n        \"std\": 104.50636449481543,\n        \"min\": 102.0,\n        \"max\": 540.0,\n        \"num_unique_values\": 278,\n        \"samples\": [\n          337.9,\n          290.2,\n          262.0\n        ],\n        \"semantic_type\": \"\",\n        \"description\": \"\"\n      }\n    },\n    {\n      \"column\": \"blast_furnace_slag\",\n      \"properties\": {\n        \"dtype\": \"number\",\n        \"std\": 86.27934174810551,\n        \"min\": 0.0,\n        \"max\": 359.4,\n        \"num_unique_values\": 185,\n        \"samples\": [\n          94.7,\n          119.0,\n          136.3\n        ],\n        \"semantic_type\": \"\",\n        \"description\": \"\"\n      }\n    },\n    {\n      \"column\": \"fly_ash\",\n      \"properties\": {\n        \"dtype\": \"number\",\n        \"std\": 63.99700415268812,\n        \"min\": 0.0,\n        \"max\": 200.1,\n        \"num_unique_values\": 156,\n        \"samples\": [\n          98.0,\n          142.0,\n          195.0\n        ],\n        \"semantic_type\": \"\",\n        \"description\": \"\"\n      }\n    },\n    {\n      \"column\": \"water\",\n      \"properties\": {\n        \"dtype\": \"number\",\n        \"std\": 21.354218565032525,\n        \"min\": 121.8,\n        \"max\": 247.0,\n        \"num_unique_values\": 195,\n        \"samples\": [\n          195.4,\n          183.8,\n          127.3\n        ],\n        \"semantic_type\": \"\",\n        \"description\": \"\"\n      }\n    },\n    {\n      \"column\": \"superplasticizer\",\n      \"properties\": {\n        \"dtype\": \"number\",\n        \"std\": 5.973841392485506,\n        \"min\": 0.0,\n        \"max\": 32.2,\n        \"num_unique_values\": 111,\n        \"samples\": [\n          15.0,\n          28.2,\n          16.5\n        ],\n        \"semantic_type\": \"\",\n        \"description\": \"\"\n      }\n    },\n    {\n      \"column\": \"coarse_aggregate\",\n      \"properties\": {\n        \"dtype\": \"number\",\n        \"std\": 77.75395396672091,\n        \"min\": 801.0,\n        \"max\": 1145.0,\n        \"num_unique_values\": 284,\n        \"samples\": [\n          852.1,\n          913.9,\n          914.0\n        ],\n        \"semantic_type\": \"\",\n        \"description\": \"\"\n      }\n    },\n    {\n      \"column\": \"fine_aggregate \",\n      \"properties\": {\n        \"dtype\": \"number\",\n        \"std\": 80.17598014240434,\n        \"min\": 594.0,\n        \"max\": 992.6,\n        \"num_unique_values\": 302,\n        \"samples\": [\n          710.0,\n          695.4,\n          769.3\n        ],\n        \"semantic_type\": \"\",\n        \"description\": \"\"\n      }\n    },\n    {\n      \"column\": \"age\",\n      \"properties\": {\n        \"dtype\": \"number\",\n        \"std\": 63,\n        \"min\": 1,\n        \"max\": 365,\n        \"num_unique_values\": 14,\n        \"samples\": [\n          91,\n          100,\n          28\n        ],\n        \"semantic_type\": \"\",\n        \"description\": \"\"\n      }\n    },\n    {\n      \"column\": \"concrete_compressive_strength\",\n      \"properties\": {\n        \"dtype\": \"number\",\n        \"std\": 16.705741961912505,\n        \"min\": 2.33,\n        \"max\": 82.6,\n        \"num_unique_values\": 845,\n        \"samples\": [\n          41.68,\n          39.59,\n          2.33\n        ],\n        \"semantic_type\": \"\",\n        \"description\": \"\"\n      }\n    }\n  ]\n}"
            }
          },
          "metadata": {},
          "execution_count": 9
        }
      ],
      "source": [
        "df.head()"
      ]
    },
    {
      "cell_type": "markdown",
      "id": "d462a68b-1277-4dcb-9ffb-3796e86d2bb1",
      "metadata": {
        "id": "d462a68b-1277-4dcb-9ffb-3796e86d2bb1"
      },
      "source": [
        "**Viewing the dimensionality of the dataset**"
      ]
    },
    {
      "cell_type": "code",
      "execution_count": null,
      "id": "033eda81-0b1f-47ab-aee0-fe85ec55ba85",
      "metadata": {
        "colab": {
          "base_uri": "https://localhost:8080/"
        },
        "id": "033eda81-0b1f-47ab-aee0-fe85ec55ba85",
        "outputId": "d40479cf-4067-4002-e741-bc60e7356f19"
      },
      "outputs": [
        {
          "output_type": "execute_result",
          "data": {
            "text/plain": [
              "(1030, 9)"
            ]
          },
          "metadata": {},
          "execution_count": 10
        }
      ],
      "source": [
        "df.shape"
      ]
    },
    {
      "cell_type": "code",
      "execution_count": null,
      "id": "cca774ba-5993-44d4-b484-6c5d2528a8bd",
      "metadata": {
        "id": "cca774ba-5993-44d4-b484-6c5d2528a8bd",
        "outputId": "1443dfd3-70e2-4044-b104-72aff9de75ea",
        "colab": {
          "base_uri": "https://localhost:8080/",
          "height": 366
        }
      },
      "outputs": [
        {
          "output_type": "execute_result",
          "data": {
            "text/plain": [
              "cement                           0\n",
              "blast_furnace_slag               0\n",
              "fly_ash                          0\n",
              "water                            0\n",
              "superplasticizer                 0\n",
              "coarse_aggregate                 0\n",
              "fine_aggregate                   0\n",
              "age                              0\n",
              "concrete_compressive_strength    0\n",
              "dtype: int64"
            ],
            "text/html": [
              "<div>\n",
              "<style scoped>\n",
              "    .dataframe tbody tr th:only-of-type {\n",
              "        vertical-align: middle;\n",
              "    }\n",
              "\n",
              "    .dataframe tbody tr th {\n",
              "        vertical-align: top;\n",
              "    }\n",
              "\n",
              "    .dataframe thead th {\n",
              "        text-align: right;\n",
              "    }\n",
              "</style>\n",
              "<table border=\"1\" class=\"dataframe\">\n",
              "  <thead>\n",
              "    <tr style=\"text-align: right;\">\n",
              "      <th></th>\n",
              "      <th>0</th>\n",
              "    </tr>\n",
              "  </thead>\n",
              "  <tbody>\n",
              "    <tr>\n",
              "      <th>cement</th>\n",
              "      <td>0</td>\n",
              "    </tr>\n",
              "    <tr>\n",
              "      <th>blast_furnace_slag</th>\n",
              "      <td>0</td>\n",
              "    </tr>\n",
              "    <tr>\n",
              "      <th>fly_ash</th>\n",
              "      <td>0</td>\n",
              "    </tr>\n",
              "    <tr>\n",
              "      <th>water</th>\n",
              "      <td>0</td>\n",
              "    </tr>\n",
              "    <tr>\n",
              "      <th>superplasticizer</th>\n",
              "      <td>0</td>\n",
              "    </tr>\n",
              "    <tr>\n",
              "      <th>coarse_aggregate</th>\n",
              "      <td>0</td>\n",
              "    </tr>\n",
              "    <tr>\n",
              "      <th>fine_aggregate</th>\n",
              "      <td>0</td>\n",
              "    </tr>\n",
              "    <tr>\n",
              "      <th>age</th>\n",
              "      <td>0</td>\n",
              "    </tr>\n",
              "    <tr>\n",
              "      <th>concrete_compressive_strength</th>\n",
              "      <td>0</td>\n",
              "    </tr>\n",
              "  </tbody>\n",
              "</table>\n",
              "</div><br><label><b>dtype:</b> int64</label>"
            ]
          },
          "metadata": {},
          "execution_count": 11
        }
      ],
      "source": [
        "df.dropna(inplace = True)\n",
        "df.isnull().sum()"
      ]
    },
    {
      "cell_type": "code",
      "execution_count": null,
      "id": "08f2c1bb-6ec4-4001-93cb-10c37d52d5d3",
      "metadata": {
        "id": "08f2c1bb-6ec4-4001-93cb-10c37d52d5d3",
        "outputId": "6ad84cb3-0ed9-4a88-f267-3a9055a0cf50",
        "colab": {
          "base_uri": "https://localhost:8080/"
        }
      },
      "outputs": [
        {
          "output_type": "stream",
          "name": "stdout",
          "text": [
            "Duplicate rows: 25\n"
          ]
        }
      ],
      "source": [
        "print(f'Duplicate rows: {df.duplicated().sum()}')"
      ]
    },
    {
      "cell_type": "code",
      "execution_count": null,
      "id": "2c15b7ff-dfa1-4597-a5b8-d6ebd235be83",
      "metadata": {
        "id": "2c15b7ff-dfa1-4597-a5b8-d6ebd235be83"
      },
      "outputs": [],
      "source": [
        "# Remove duplicate rows\n",
        "df.drop_duplicates(inplace=True)"
      ]
    },
    {
      "cell_type": "markdown",
      "id": "30f48e29-7d92-4504-b040-9b3f0b83ed87",
      "metadata": {
        "id": "30f48e29-7d92-4504-b040-9b3f0b83ed87"
      },
      "source": [
        "**Scaling and Encoding**"
      ]
    },
    {
      "cell_type": "code",
      "execution_count": null,
      "id": "7d2a0134-ad67-4f9a-b445-736cfacd5100",
      "metadata": {
        "id": "7d2a0134-ad67-4f9a-b445-736cfacd5100"
      },
      "outputs": [],
      "source": [
        "from sklearn.model_selection import train_test_split\n",
        "\n",
        "X = df.iloc[:, :-1].values\n",
        "y = df.iloc[:, -1].values\n",
        "\n",
        "# split into training and testing sets\n",
        "X_train, X_test, y_train, y_test = train_test_split(X, y, test_size = 0.3, random_state = 42)\n"
      ]
    },
    {
      "cell_type": "code",
      "execution_count": null,
      "id": "82434491-c91b-4bb6-9e56-d02ef2c5fa03",
      "metadata": {
        "id": "82434491-c91b-4bb6-9e56-d02ef2c5fa03"
      },
      "outputs": [],
      "source": [
        "scaler = StandardScaler()\n",
        "\n",
        "#intialise training and test sets\n",
        "X_train_scaled = scaler.fit_transform(X_train)\n",
        "X_test_scaled = scaler.transform(X_test)"
      ]
    },
    {
      "cell_type": "code",
      "execution_count": null,
      "id": "c9590511-f8bd-451b-98e2-0e3d519bb67b",
      "metadata": {
        "id": "c9590511-f8bd-451b-98e2-0e3d519bb67b",
        "outputId": "30d15b92-744a-457c-fb6d-f5e987d630ef",
        "colab": {
          "base_uri": "https://localhost:8080/"
        }
      },
      "outputs": [
        {
          "output_type": "stream",
          "name": "stdout",
          "text": [
            "First 5 rows of scaled training data:\n",
            "[[-0.7036142   0.7362629  -0.8810702   0.1799759  -1.0226942   1.32341753\n",
            "  -0.17765612 -0.62455318]\n",
            " [-0.83112259 -0.84582676  1.04788182 -0.72981642  0.63596651  1.35948653\n",
            "   0.32102131  0.88513966]\n",
            " [ 0.43140366  1.06620495 -0.8810702   0.38479825 -0.18498677 -1.33280675\n",
            "   0.00745899 -0.28365479]\n",
            " [-1.05233032  0.66864226  1.10026551 -0.30588178  0.28412939  0.42298068\n",
            "  -0.33758549 -0.51092038]\n",
            " [-1.17404287 -0.84582676  1.31904441  0.5419875   0.50193332 -1.24005789\n",
            "   1.18741037 -0.28365479]]\n"
          ]
        }
      ],
      "source": [
        "print(\"First 5 rows of scaled training data:\")\n",
        "print(X_train_scaled[:5])"
      ]
    },
    {
      "cell_type": "markdown",
      "id": "78d90124-ed32-4fe9-a9e9-1be683f411d1",
      "metadata": {
        "id": "78d90124-ed32-4fe9-a9e9-1be683f411d1"
      },
      "source": [
        "**Artificial Neural Network (ANN)**\n",
        "Below are the implementations of the ANN to train and predict concrete compressive strength"
      ]
    },
    {
      "cell_type": "code",
      "execution_count": 55,
      "id": "f36052af-8785-4f80-a652-a174b844c476",
      "metadata": {
        "id": "f36052af-8785-4f80-a652-a174b844c476"
      },
      "outputs": [],
      "source": [
        "class activationFunction:\n",
        "    def logisticFunction(x):\n",
        "        return 1 / (1 + np.exp(-x))\n",
        "\n",
        "    def reLuFunction(x):\n",
        "        return np.maximum(0, x)\n",
        "\n",
        "    def hyperbolicFunction(x):\n",
        "        return np.tanh(x)\n",
        "\n",
        "    def leakyReLU(x, alpha=0.01):\n",
        "        return np.maximum(x, alpha * x)\n",
        "\n",
        "    def elu(x, alpha=1.0):\n",
        "        return np.where(x > 0, x, alpha * (np.exp(x) - 1))\n",
        "\n",
        "class ArtificialNeuralNetwork:\n",
        "    def __init__(self, layerSize, activationFunction):\n",
        "        self.layerSize = layerSize\n",
        "        self.activationFunction = activationFunction\n",
        "        self.weights = [np.random.randn(layerSize[i], layerSize[i + 1]) for i in range(len(layerSize) - 1)]\n",
        "        self.biases = [np.random.randn(1, layerSize[i + 1]) for i in range(len(layerSize) - 1)]\n",
        "\n",
        "    def forwardPropagation(self, x):\n",
        "        output = x\n",
        "        for i in range(len(self.weights)):\n",
        "            matrix_total = np.dot(output, self.weights[i]) + self.biases[i]\n",
        "            output = self.activationFunction[i](matrix_total)  # Apply the ith activation function\n",
        "        return output\n",
        "\n",
        "\n",
        "\n",
        "\n"
      ]
    },
    {
      "cell_type": "markdown",
      "id": "1ed5052f-91c5-4274-befd-9730ed83beb7",
      "metadata": {
        "id": "1ed5052f-91c5-4274-befd-9730ed83beb7"
      },
      "source": [
        "*Layer size is structure to be 8 input layers, 16 neurons in first hidden layer, 8 for the second hidden layer, and 1 for the output layer.*\n",
        "*This is to check the predicted values generated after forward propagation from the ANN*"
      ]
    },
    {
      "cell_type": "code",
      "execution_count": 56,
      "id": "8c52e988-67b2-445f-ba2a-1b11eabc73d8",
      "metadata": {
        "id": "8c52e988-67b2-445f-ba2a-1b11eabc73d8",
        "outputId": "8d0ca147-206a-48fa-ccf8-a9b7b0eac212",
        "colab": {
          "base_uri": "https://localhost:8080/"
        }
      },
      "outputs": [
        {
          "output_type": "stream",
          "name": "stdout",
          "text": [
            "ANN Output (Sample Predictions): [[-0.99999982]\n",
            " [-0.99999626]\n",
            " [-0.9999906 ]\n",
            " [-0.99998553]\n",
            " [-0.99999984]\n",
            " [-0.99999717]\n",
            " [-0.99999998]\n",
            " [-0.99999992]]\n"
          ]
        }
      ],
      "source": [
        "layer_sizes = [8, 16, 8, 1]\n",
        "\n",
        "activation_functions = [\n",
        "    activationFunction.logisticFunction,\n",
        "    activationFunction.reLuFunction,\n",
        "    activationFunction.hyperbolicFunction,\n",
        "]\n",
        "\n",
        "ann = ArtificialNeuralNetwork(layer_sizes, activation_functions)\n",
        "\n",
        "x_example = np.random.rand(8, 8)  # 8samples, 8 features\n",
        "output = ann.forwardPropagation(x_example)\n",
        "print(\"ANN Output (Sample Predictions):\", output)\n"
      ]
    },
    {
      "cell_type": "code",
      "source": [],
      "metadata": {
        "id": "TwlIBXMtVocO"
      },
      "id": "TwlIBXMtVocO",
      "execution_count": null,
      "outputs": []
    },
    {
      "cell_type": "markdown",
      "id": "78632050-f421-43b0-ab60-642af572e692",
      "metadata": {
        "id": "78632050-f421-43b0-ab60-642af572e692"
      },
      "source": [
        "**Loss Function**\n",
        "*Since the problem domian is regression, MSE is utilised as the loss function*"
      ]
    },
    {
      "cell_type": "code",
      "execution_count": null,
      "id": "37370e3e-512a-42a9-a622-35d32b96af49",
      "metadata": {
        "id": "37370e3e-512a-42a9-a622-35d32b96af49"
      },
      "outputs": [],
      "source": [
        "class lossFunction:\n",
        "    def evaluate(self, y_pred, y_train):\n",
        "        pass\n",
        "class MeanSquaredError(lossFunction):\n",
        "    def evaluate(self, y_pred, y_train):\n",
        "        l=np.mean((y_pred - y_train) ** 2)\n",
        "        return l"
      ]
    },
    {
      "cell_type": "code",
      "execution_count": null,
      "id": "465dcf79-542a-4fa4-b5de-a4a1da002e8e",
      "metadata": {
        "id": "465dcf79-542a-4fa4-b5de-a4a1da002e8e",
        "outputId": "e4834fcc-a4d2-4aa2-b316-c4e5ccfbcc94"
      },
      "outputs": [
        {
          "name": "stdout",
          "output_type": "stream",
          "text": [
            "Loss: 1447.58422660566\n"
          ]
        }
      ],
      "source": [
        "loss_function = MeanSquaredError()\n",
        "\n",
        "#output of forward propagation\n",
        "y_pred = ann.forwardPropagation(X_train_scaled)\n",
        "\n",
        "#use the output to calculate the loss function\n",
        "print(\"Loss:\", loss_function.evaluate(y_pred, y_train))"
      ]
    },
    {
      "cell_type": "markdown",
      "id": "75222630-f415-4b05-bdf5-778ea94c3c0d",
      "metadata": {
        "id": "75222630-f415-4b05-bdf5-778ea94c3c0d"
      },
      "source": [
        "**Implement PSO Algorithm**"
      ]
    },
    {
      "cell_type": "code",
      "execution_count": 57,
      "id": "9917bcd6-8081-4101-9a56-67827043922b",
      "metadata": {
        "id": "9917bcd6-8081-4101-9a56-67827043922b"
      },
      "outputs": [],
      "source": [
        "class Particle:\n",
        "    def __init__(self,vectorSize):\n",
        "            self.particlePosition=np.random.rand(vectorSize)\n",
        "            self.particleVelocity=np.random.rand(vectorSize)\n",
        "            self.bestPosition=np.copy(self.particlePosition)\n",
        "            self.informants=[]\n"
      ]
    },
    {
      "cell_type": "code",
      "execution_count": 58,
      "id": "ff9b7e2d-aa7c-410a-a632-6054362aba9e",
      "metadata": {
        "id": "ff9b7e2d-aa7c-410a-a632-6054362aba9e"
      },
      "outputs": [],
      "source": [
        "def particleToAnn(particle, annLayers, activationFunctions):\n",
        "    neuralNetwork = ArtificialNeuralNetwork(layerSize=annLayers, activationFunction=activationFunctions)\n",
        "    weightBiasIndexCount = 0\n",
        "    for i in range(len(annLayers) - 1):\n",
        "        prevValue = annLayers[i]\n",
        "        nextValue = annLayers[i + 1]\n",
        "        weightRange = prevValue * nextValue\n",
        "        weight = particle.particlePosition[weightBiasIndexCount:weightBiasIndexCount + weightRange].reshape((prevValue, nextValue))\n",
        "        weightBiasIndexCount += weightRange\n",
        "        biases = particle.particlePosition[weightBiasIndexCount:weightBiasIndexCount + nextValue].reshape((1, nextValue))\n",
        "        weightBiasIndexCount += nextValue\n",
        "        activation = activationFunctions[i]\n",
        "        neuralNetwork.weights[i] = weight\n",
        "        neuralNetwork.biases[i] = biases\n",
        "    return neuralNetwork\n"
      ]
    },
    {
      "cell_type": "code",
      "source": [
        "# Example of assessFitness\n",
        "'''def assessFitness(particle, X, y, loss_function,predictions):\n",
        "    # Implement forward propagation for the ANN represented by this particle\n",
        "    # Use particle's position as ANN weights/biases\n",
        "    # Calculate the loss (or error) using the provided loss_function\n",
        "    # Return the computed fitness\n",
        "    predictions = particle.forward_prop(X)  # Suppose each particle has a forward_prop method\n",
        "    fitness = loss_function(predictions, y)\n",
        "    return fitness'''\n",
        "\n",
        "\n",
        "def assessFitness(particle,dataset,annLayers,activationFunctions,lossFunction):\n",
        "    x, y = dataset\n",
        "    ann=particleToAnn(particle,annLayers,activationFunctions)\n",
        "    predictions = ann.forward(x.T)\n",
        "    predicted_classes = (predictions > 0.5).astype(int)\n",
        "    accuracy = np.mean(predicted_classes == y.reshape(-1, 1))\n",
        "    return accuracy\n"
      ],
      "metadata": {
        "id": "q8TWIiVxbKSz"
      },
      "id": "q8TWIiVxbKSz",
      "execution_count": null,
      "outputs": []
    },
    {
      "cell_type": "code",
      "source": [
        "# Testing the particleToAnn function\n",
        "annLayers = [8, 16, 1]\n",
        "activationFunctions = [activationFunction.logisticFunction,activationFunction.reLuFunction]\n",
        "particle = Particle(161)\n",
        "neuralNetwork = particleToAnn(particle, annLayers, activationFunctions)\n",
        "x_example = np.random.rand(8, 8)\n",
        "output = neuralNetwork.forwardPropagation(x_example)\n",
        "print(output)"
      ],
      "metadata": {
        "colab": {
          "base_uri": "https://localhost:8080/"
        },
        "id": "-usoBiIDW1lH",
        "outputId": "da6de4d1-e18e-4d93-c0ee-676ac63d3440"
      },
      "id": "-usoBiIDW1lH",
      "execution_count": 59,
      "outputs": [
        {
          "output_type": "stream",
          "name": "stdout",
          "text": [
            "[[8.11021818]\n",
            " [8.3762438 ]\n",
            " [7.99499544]\n",
            " [7.93535654]\n",
            " [7.8823998 ]\n",
            " [7.8805294 ]\n",
            " [8.20397121]\n",
            " [7.92686223]]\n"
          ]
        }
      ]
    },
    {
      "cell_type": "code",
      "source": [
        "import random\n",
        "import numpy as np\n",
        "class ParticleSwarmOptimisation:\n",
        "    def __init__(self,swarmSize,alpha,beta,delta,omega,jumpSize,informantCount,vectorSize):\n",
        "        self.swarmSize = swarmSize\n",
        "        self.alpha = alpha\n",
        "        self.beta = beta\n",
        "        self.delta = delta\n",
        "        self.omega = omega\n",
        "        self.jumpSize = jumpSize\n",
        "        self.informantCount = informantCount\n",
        "        self.vectorSize = vectorSize\n",
        "        self.global_best = None\n",
        "        self.global_best_fitness = float('inf')\n",
        "\n",
        "\n",
        "        # assign informants\n",
        "        def initInformants(informantCount,particleArray):\n",
        "            informants=[]\n",
        "            for p in particleArray:\n",
        "                potentialInformants=[]\n",
        "                for potInf in particleArray:\n",
        "                    if potInf!=p:\n",
        "                        potentialInformants.append(potInf)\n",
        "                for i in range(informantCount):\n",
        "                     informants.append(random.choice(potentialInformants))\n",
        "                p.informants=informants\n",
        "\n",
        "        def get_best_informant(particle,dataset,annLayers,activationFunctions,lossFunction):\n",
        "            bestInf=None\n",
        "            bestFitnessInf=float('-inf')\n",
        "            for i in particle.informants:\n",
        "                fitness = assessFitness(i,dataset,annLayers,activationFunctions,lossFunction)\n",
        "                if fitness > bestFitnessInf:\n",
        "                    bestFitnessInf=fitness\n",
        "                    bestInf=i\n",
        "            bestInf.particlePosition=bestFitnessInf\n",
        "            return bestInf.particlePosition\n",
        "\n",
        "\n",
        "\n",
        "        #textbook code\n",
        "        def psoOptimisation(swarmSize,alpha,beta,gamma,jumpSize,informantCount,vectorSize,dataSet):\n",
        "            # stores all of the particles\n",
        "            particleArray=[]\n",
        "            for i in range(swarmSize):\n",
        "                particleArray.append(Particle(vectorSize))\n",
        "            best=None\n",
        "            #initialising informants for the particles\n",
        "            initInformants(informantCount,particleArray)\n",
        "            while(True): #will change to do while loop\n",
        "                # compare fitness\n",
        "                for p in particleArray:\n",
        "                    particleFitness=assessFitness(p)\n",
        "                    bestFitness=assessFitness(best)\n",
        "                    if best is None or particleFitness<bestFitness:\n",
        "                        best=p\n",
        "                for p in particleArray:\n",
        "                    previousBest=p.bestPosition\n",
        "                    informantsBest=get_best_informant\n",
        "                    allBest=best.bestPosition\n",
        "                    b = np.random.uniform(0.0, beta)\n",
        "                    c = np.random.uniform(0.0, gamma)\n",
        "                    d = np.random.uniform(0.0, delta)\n",
        "                    updatedVelocity = alpha * p.velocity + b * (previousBest - p.position) + \\\n",
        "                            c * (informantsBest-p.position) + d * \\\n",
        "                    (allBest - p.position)\n",
        "\n",
        "                    p.velocity=updatedVelocity\n",
        "                    p.position+= jumpSize*updatedVelocity"
      ],
      "metadata": {
        "id": "hg18WNeDa2Gp"
      },
      "id": "hg18WNeDa2Gp",
      "execution_count": 43,
      "outputs": []
    },
    {
      "cell_type": "code",
      "source": [
        "\n"
      ],
      "metadata": {
        "colab": {
          "base_uri": "https://localhost:8080/"
        },
        "id": "1U-jSP8hhXCu",
        "outputId": "a9fdbdf9-1aad-45e0-921e-4b01ea3b724d"
      },
      "id": "1U-jSP8hhXCu",
      "execution_count": 49,
      "outputs": [
        {
          "output_type": "stream",
          "name": "stdout",
          "text": [
            "[[6.8006315 ]\n",
            " [7.03973188]\n",
            " [6.82378219]\n",
            " [6.40968235]\n",
            " [6.54164057]\n",
            " [6.88042196]\n",
            " [6.77966653]\n",
            " [6.83015266]]\n"
          ]
        }
      ]
    }
  ],
  "metadata": {
    "kernelspec": {
      "display_name": "Python 3 (ipykernel)",
      "language": "python",
      "name": "python3"
    },
    "language_info": {
      "codemirror_mode": {
        "name": "ipython",
        "version": 3
      },
      "file_extension": ".py",
      "mimetype": "text/x-python",
      "name": "python",
      "nbconvert_exporter": "python",
      "pygments_lexer": "ipython3",
      "version": "3.12.7"
    },
    "colab": {
      "provenance": []
    }
  },
  "nbformat": 4,
  "nbformat_minor": 5
}